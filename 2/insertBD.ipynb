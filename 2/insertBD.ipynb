{
 "cells": [
  {
   "cell_type": "code",
   "execution_count": 1,
   "metadata": {},
   "outputs": [],
   "source": [
    "import pandas as pd\n",
    "import psycopg2"
   ]
  },
  {
   "cell_type": "code",
   "execution_count": 17,
   "metadata": {},
   "outputs": [],
   "source": [
    "pessoas = pd.read_csv('C:/Users/lande/OneDrive/Documents/GitHub/DATA_MINDS_Desafio/2/Pessoa.csv')\n",
    "contratos = pd.read_csv('C:/Users/lande/OneDrive/Documents/GitHub/DATA_MINDS_Desafio/2/Contratos.csv')\n",
    "pagamentos = pd.read_csv('C:/Users/lande/OneDrive/Documents/GitHub/DATA_MINDS_Desafio/2/Pagamentos.csv')"
   ]
  },
  {
   "cell_type": "code",
   "execution_count": 58,
   "metadata": {},
   "outputs": [],
   "source": [
    "con = psycopg2.connect(\n",
    "    host = 'localhost',\n",
    "    database = 'Dataminds2',\n",
    "    user = 'Lander',\n",
    "    password = '1337'\n",
    ")"
   ]
  },
  {
   "cell_type": "code",
   "execution_count": 60,
   "metadata": {},
   "outputs": [
    {
     "data": {
      "text/html": [
       "<div>\n",
       "<style scoped>\n",
       "    .dataframe tbody tr th:only-of-type {\n",
       "        vertical-align: middle;\n",
       "    }\n",
       "\n",
       "    .dataframe tbody tr th {\n",
       "        vertical-align: top;\n",
       "    }\n",
       "\n",
       "    .dataframe thead th {\n",
       "        text-align: right;\n",
       "    }\n",
       "</style>\n",
       "<table border=\"1\" class=\"dataframe\">\n",
       "  <thead>\n",
       "    <tr style=\"text-align: right;\">\n",
       "      <th></th>\n",
       "      <th>NumeroUnico</th>\n",
       "      <th>CNPJ</th>\n",
       "      <th>Modalidade</th>\n",
       "      <th>IndicadorPreFixado</th>\n",
       "      <th>DataVencimentoUltimaParcela</th>\n",
       "      <th>ValorContratadoFuturo</th>\n",
       "      <th>QuantidadeParcelas</th>\n",
       "      <th>Pessoa_CPF</th>\n",
       "      <th>Unnamed: 8</th>\n",
       "      <th>Unnamed: 9</th>\n",
       "      <th>Unnamed: 10</th>\n",
       "      <th>Unnamed: 11</th>\n",
       "    </tr>\n",
       "  </thead>\n",
       "  <tbody>\n",
       "    <tr>\n",
       "      <th>0</th>\n",
       "      <td>NU11111111</td>\n",
       "      <td>00.000.000/0000-01</td>\n",
       "      <td>Parcelado</td>\n",
       "      <td>0</td>\n",
       "      <td>09/02/2021</td>\n",
       "      <td>339150</td>\n",
       "      <td>20</td>\n",
       "      <td>111.111.111-11</td>\n",
       "      <td>NaN</td>\n",
       "      <td>NaN</td>\n",
       "      <td>01/01/2019</td>\n",
       "      <td>01/01/2025</td>\n",
       "    </tr>\n",
       "    <tr>\n",
       "      <th>1</th>\n",
       "      <td>NU11111115</td>\n",
       "      <td>00.000.000/0000-01</td>\n",
       "      <td>Cartão de Crédito</td>\n",
       "      <td>0</td>\n",
       "      <td>16/07/2024</td>\n",
       "      <td>780662</td>\n",
       "      <td>11</td>\n",
       "      <td>111.111.111-11</td>\n",
       "      <td>NaN</td>\n",
       "      <td>NaN</td>\n",
       "      <td>NaN</td>\n",
       "      <td>NaN</td>\n",
       "    </tr>\n",
       "    <tr>\n",
       "      <th>2</th>\n",
       "      <td>NU11111116</td>\n",
       "      <td>00.000.000/0000-02</td>\n",
       "      <td>Parcelado</td>\n",
       "      <td>1</td>\n",
       "      <td>13/02/2023</td>\n",
       "      <td>50000</td>\n",
       "      <td>5</td>\n",
       "      <td>111.111.111-12</td>\n",
       "      <td>NaN</td>\n",
       "      <td>NaN</td>\n",
       "      <td>NaN</td>\n",
       "      <td>NaN</td>\n",
       "    </tr>\n",
       "    <tr>\n",
       "      <th>3</th>\n",
       "      <td>NU11111119</td>\n",
       "      <td>00.000.000/0000-03</td>\n",
       "      <td>Parcelado</td>\n",
       "      <td>0</td>\n",
       "      <td>22/03/2023</td>\n",
       "      <td>95000</td>\n",
       "      <td>15</td>\n",
       "      <td>111.111.111-11</td>\n",
       "      <td>NaN</td>\n",
       "      <td>NaN</td>\n",
       "      <td>NaN</td>\n",
       "      <td>NaN</td>\n",
       "    </tr>\n",
       "  </tbody>\n",
       "</table>\n",
       "</div>"
      ],
      "text/plain": [
       "  NumeroUnico                CNPJ         Modalidade  IndicadorPreFixado  \\\n",
       "0  NU11111111  00.000.000/0000-01          Parcelado                   0   \n",
       "1  NU11111115  00.000.000/0000-01  Cartão de Crédito                   0   \n",
       "2  NU11111116  00.000.000/0000-02          Parcelado                   1   \n",
       "3  NU11111119  00.000.000/0000-03          Parcelado                   0   \n",
       "\n",
       "  DataVencimentoUltimaParcela  ValorContratadoFuturo  QuantidadeParcelas  \\\n",
       "0                  09/02/2021                 339150                  20   \n",
       "1                  16/07/2024                 780662                  11   \n",
       "2                  13/02/2023                  50000                   5   \n",
       "3                  22/03/2023                  95000                  15   \n",
       "\n",
       "       Pessoa_CPF  Unnamed: 8  Unnamed: 9 Unnamed: 10 Unnamed: 11  \n",
       "0  111.111.111-11         NaN         NaN  01/01/2019  01/01/2025  \n",
       "1  111.111.111-11         NaN         NaN         NaN         NaN  \n",
       "2  111.111.111-12         NaN         NaN         NaN         NaN  \n",
       "3  111.111.111-11         NaN         NaN         NaN         NaN  "
      ]
     },
     "execution_count": 60,
     "metadata": {},
     "output_type": "execute_result"
    }
   ],
   "source": [
    "contratos.head(30)"
   ]
  },
  {
   "cell_type": "code",
   "execution_count": 42,
   "metadata": {},
   "outputs": [
    {
     "name": "stdout",
     "output_type": "stream",
     "text": [
      "None\n"
     ]
    }
   ],
   "source": [
    "cur = con.cursor()\n",
    "\n",
    "\n",
    "\n"
   ]
  },
  {
   "cell_type": "code",
   "execution_count": 59,
   "metadata": {},
   "outputs": [],
   "source": [
    "con = psycopg2.connect(\n",
    "    host = 'localhost',\n",
    "    database = 'Dataminds2',\n",
    "    user = 'Lander',\n",
    "    password = '1337'\n",
    ")\n",
    "\n",
    "\n",
    "cur = con.cursor()\n",
    "\n",
    "for index, row in pessoas.iterrows():\n",
    "    cur.execute(\"\"\"INSERT INTO public.pessoa(cpf) VALUES(%s);\"\"\",(row.CPF,))\n",
    "    con.commit()\n",
    "\n",
    "for index, row in contratos.iterrows():\n",
    "    cur.execute(\"\"\"INSERT INTO public.contratos(\n",
    "\tnumerounico, cnpj, modalidade, indicadorprefixado, datavencimentoultimaparcela, valorcontratadofuturo, quantidadeparcelas, pessoa_cpf)\n",
    "\tVALUES (%s,%s, %s, %s, %s, %s, %s, %s);\"\"\",(row.NumeroUnico, row.CNPJ, row.Modalidade, bool(row.IndicadorPreFixado), row.DataVencimentoUltimaParcela, row.ValorContratadoFuturo, row.QuantidadeParcelas, row.Pessoa_CPF))\n",
    "    con.commit()\n",
    "\n",
    "for index, row in pagamentos.iterrows():\n",
    "    \n",
    "    if(type(row.DataPagamento)!=type('')): \n",
    "        \n",
    "        cur.execute(\"\"\"INSERT INTO public.pagamentos(\n",
    "\t    cnpj, datavencimento, valor, contratos_numerounico, pessoa_cpf)\n",
    "\t    VALUES (%s, %s, %s, %s, %s);\"\"\",(row.CNPJ, row.DataVencimento, row.Valor, row.Contratos_NumeroUnico, row.Pessoa_CPF))\n",
    "        con.commit()\n",
    "    \n",
    "    else:\n",
    "        cur.execute(\"\"\"INSERT INTO public.pagamentos(\n",
    "\t    cnpj, datavencimento, valor, datapagamento, valorpagamento, contratos_numerounico, pessoa_cpf)\n",
    "\t    VALUES (%s, %s, %s, %s, %s, %s, %s);\"\"\",(row.CNPJ, row.DataVencimento, row.Valor, psycopg2.Date(int(str(row.DataPagamento)[6:10]),int(str(row.DataPagamento)[3:5]),int(str(row.DataPagamento)[:2])) , row.ValorPagamento, row.Contratos_NumeroUnico, row.Pessoa_CPF))\n",
    "        con.commit()\n",
    "\n",
    "cur.close()\n",
    "con.close()\n",
    "\n",
    "    "
   ]
  },
  {
   "cell_type": "code",
   "execution_count": 42,
   "metadata": {},
   "outputs": [],
   "source": [
    "import datetime\n",
    "import string"
   ]
  },
  {
   "cell_type": "code",
   "execution_count": 58,
   "metadata": {},
   "outputs": [],
   "source": [
    "\n",
    "con = psycopg2.connect(\n",
    "    host = 'localhost',\n",
    "    database = 'Dataminds2',\n",
    "    user = 'Lander',\n",
    "    password = '1337'\n",
    ")\n",
    "\n",
    "\n",
    "cur = con.cursor()\n",
    "\n",
    "for index, row in pagamentos.iterrows():\n",
    "    \n",
    "    if(type(row.DataPagamento)!=type('')): \n",
    "        \n",
    "        cur.execute(\"\"\"INSERT INTO public.pagamentos(\n",
    "\t    cnpj, datavencimento, valor, contratos_numerounico, pessoa_cpf)\n",
    "\t    VALUES (%s, %s, %s, %s, %s);\"\"\",(row.CNPJ, row.DataVencimento, row.Valor, row.Contratos_NumeroUnico, row.Pessoa_CPF))\n",
    "        con.commit()\n",
    "    \n",
    "    else:\n",
    "        cur.execute(\"\"\"INSERT INTO public.pagamentos(\n",
    "\t    cnpj, datavencimento, valor, datapagamento, valorpagamento, contratos_numerounico, pessoa_cpf)\n",
    "\t    VALUES (%s, %s, %s, %s, %s, %s, %s);\"\"\",(row.CNPJ, row.DataVencimento, row.Valor, psycopg2.Date(int(str(row.DataPagamento)[6:10]),int(str(row.DataPagamento)[3:5]),int(str(row.DataPagamento)[:2])) , row.ValorPagamento, row.Contratos_NumeroUnico, row.Pessoa_CPF))\n",
    "        con.commit()\n",
    "\n",
    "    \n",
    "cur.close()\n",
    "con.close()\n"
   ]
  },
  {
   "cell_type": "code",
   "execution_count": 60,
   "metadata": {},
   "outputs": [],
   "source": [
    "cur.close()\n",
    "con.close()"
   ]
  },
  {
   "cell_type": "code",
   "execution_count": 53,
   "metadata": {},
   "outputs": [
    {
     "name": "stdout",
     "output_type": "stream",
     "text": [
      "<class 'str'>\n",
      "<class 'str'>\n"
     ]
    }
   ],
   "source": [
    "for index, row in pessoas.iterrows():\n",
    "    print(type(row['CPF']))"
   ]
  }
 ],
 "metadata": {
  "kernelspec": {
   "display_name": "Python 3",
   "language": "python",
   "name": "python3"
  },
  "language_info": {
   "codemirror_mode": {
    "name": "ipython",
    "version": 3
   },
   "file_extension": ".py",
   "mimetype": "text/x-python",
   "name": "python",
   "nbconvert_exporter": "python",
   "pygments_lexer": "ipython3",
   "version": "3.11.1"
  },
  "orig_nbformat": 4,
  "vscode": {
   "interpreter": {
    "hash": "18792fb2243ff27468d5b01a7d4302a04b11bcf9f9bbce0bb3bd290825d41d08"
   }
  }
 },
 "nbformat": 4,
 "nbformat_minor": 2
}
