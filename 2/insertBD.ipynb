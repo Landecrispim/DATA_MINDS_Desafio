{
 "cells": [
  {
   "cell_type": "code",
   "execution_count": 1,
   "metadata": {},
   "outputs": [],
   "source": [
    "import pandas as pd\n",
    "import psycopg2"
   ]
  },
  {
   "cell_type": "code",
   "execution_count": 87,
   "metadata": {},
   "outputs": [],
   "source": [
    "pessoas = pd.read_csv('C:/Users/lande/OneDrive/Documents/GitHub/DATA_MINDS_Desafio/2/Pessoa.csv')\n",
    "contratos = pd.read_csv('C:/Users/lande/OneDrive/Documents/GitHub/DATA_MINDS_Desafio/2/Contratos.csv')\n",
    "pagamentos = pd.read_csv('C:/Users/lande/OneDrive/Documents/GitHub/DATA_MINDS_Desafio/2/Pagamentos.csv')"
   ]
  },
  {
   "cell_type": "code",
   "execution_count": 58,
   "metadata": {},
   "outputs": [],
   "source": [
    "con = psycopg2.connect(\n",
    "    host = 'localhost',\n",
    "    database = 'Dataminds2',\n",
    "    user = 'Lander',\n",
    "    password = '1337'\n",
    ")"
   ]
  },
  {
   "cell_type": "code",
   "execution_count": 44,
   "metadata": {},
   "outputs": [
    {
     "data": {
      "text/html": [
       "<div>\n",
       "<style scoped>\n",
       "    .dataframe tbody tr th:only-of-type {\n",
       "        vertical-align: middle;\n",
       "    }\n",
       "\n",
       "    .dataframe tbody tr th {\n",
       "        vertical-align: top;\n",
       "    }\n",
       "\n",
       "    .dataframe thead th {\n",
       "        text-align: right;\n",
       "    }\n",
       "</style>\n",
       "<table border=\"1\" class=\"dataframe\">\n",
       "  <thead>\n",
       "    <tr style=\"text-align: right;\">\n",
       "      <th></th>\n",
       "      <th>NumeroUnico</th>\n",
       "      <th>CNPJ</th>\n",
       "      <th>Modalidade</th>\n",
       "      <th>IndicadorPreFixado</th>\n",
       "      <th>DataVencimentoUltimaParcela</th>\n",
       "      <th>ValorContratadoFuturo</th>\n",
       "      <th>QuantidadeParcelas</th>\n",
       "      <th>Pessoa_CPF</th>\n",
       "      <th>Unnamed: 8</th>\n",
       "      <th>Unnamed: 9</th>\n",
       "      <th>Unnamed: 10</th>\n",
       "      <th>Unnamed: 11</th>\n",
       "    </tr>\n",
       "  </thead>\n",
       "  <tbody>\n",
       "    <tr>\n",
       "      <th>0</th>\n",
       "      <td>NU11111111</td>\n",
       "      <td>00.000.000/0000-01</td>\n",
       "      <td>Parcelado</td>\n",
       "      <td>0</td>\n",
       "      <td>09/02/2021</td>\n",
       "      <td>339150</td>\n",
       "      <td>20</td>\n",
       "      <td>111.111.111-11</td>\n",
       "      <td>NaN</td>\n",
       "      <td>NaN</td>\n",
       "      <td>01/01/2019</td>\n",
       "      <td>01/01/2025</td>\n",
       "    </tr>\n",
       "    <tr>\n",
       "      <th>1</th>\n",
       "      <td>NU11111115</td>\n",
       "      <td>00.000.000/0000-01</td>\n",
       "      <td>Cartão de Crédito</td>\n",
       "      <td>0</td>\n",
       "      <td>16/07/2024</td>\n",
       "      <td>780662</td>\n",
       "      <td>11</td>\n",
       "      <td>111.111.111-11</td>\n",
       "      <td>NaN</td>\n",
       "      <td>NaN</td>\n",
       "      <td>NaN</td>\n",
       "      <td>NaN</td>\n",
       "    </tr>\n",
       "    <tr>\n",
       "      <th>2</th>\n",
       "      <td>NU11111116</td>\n",
       "      <td>00.000.000/0000-02</td>\n",
       "      <td>Parcelado</td>\n",
       "      <td>1</td>\n",
       "      <td>13/02/2023</td>\n",
       "      <td>50000</td>\n",
       "      <td>5</td>\n",
       "      <td>111.111.111-12</td>\n",
       "      <td>NaN</td>\n",
       "      <td>NaN</td>\n",
       "      <td>NaN</td>\n",
       "      <td>NaN</td>\n",
       "    </tr>\n",
       "    <tr>\n",
       "      <th>3</th>\n",
       "      <td>NU11111119</td>\n",
       "      <td>00.000.000/0000-03</td>\n",
       "      <td>Parcelado</td>\n",
       "      <td>0</td>\n",
       "      <td>22/03/2023</td>\n",
       "      <td>95000</td>\n",
       "      <td>15</td>\n",
       "      <td>111.111.111-11</td>\n",
       "      <td>NaN</td>\n",
       "      <td>NaN</td>\n",
       "      <td>NaN</td>\n",
       "      <td>NaN</td>\n",
       "    </tr>\n",
       "  </tbody>\n",
       "</table>\n",
       "</div>"
      ],
      "text/plain": [
       "  NumeroUnico                CNPJ         Modalidade  IndicadorPreFixado  \\\n",
       "0  NU11111111  00.000.000/0000-01          Parcelado                   0   \n",
       "1  NU11111115  00.000.000/0000-01  Cartão de Crédito                   0   \n",
       "2  NU11111116  00.000.000/0000-02          Parcelado                   1   \n",
       "3  NU11111119  00.000.000/0000-03          Parcelado                   0   \n",
       "\n",
       "  DataVencimentoUltimaParcela  ValorContratadoFuturo  QuantidadeParcelas  \\\n",
       "0                  09/02/2021                 339150                  20   \n",
       "1                  16/07/2024                 780662                  11   \n",
       "2                  13/02/2023                  50000                   5   \n",
       "3                  22/03/2023                  95000                  15   \n",
       "\n",
       "       Pessoa_CPF  Unnamed: 8  Unnamed: 9 Unnamed: 10 Unnamed: 11  \n",
       "0  111.111.111-11         NaN         NaN  01/01/2019  01/01/2025  \n",
       "1  111.111.111-11         NaN         NaN         NaN         NaN  \n",
       "2  111.111.111-12         NaN         NaN         NaN         NaN  \n",
       "3  111.111.111-11         NaN         NaN         NaN         NaN  "
      ]
     },
     "execution_count": 44,
     "metadata": {},
     "output_type": "execute_result"
    }
   ],
   "source": [
    "contratos.head()"
   ]
  },
  {
   "cell_type": "code",
   "execution_count": 42,
   "metadata": {},
   "outputs": [
    {
     "name": "stdout",
     "output_type": "stream",
     "text": [
      "None\n"
     ]
    }
   ],
   "source": [
    "cur = con.cursor()\n",
    "\n",
    "\n",
    "\n"
   ]
  },
  {
   "cell_type": "code",
   "execution_count": 68,
   "metadata": {},
   "outputs": [],
   "source": [
    "con = psycopg2.connect(\n",
    "    host = 'localhost',\n",
    "    database = 'Dataminds2',\n",
    "    user = 'Lander',\n",
    "    password = '1337'\n",
    ")\n",
    "\n",
    "\n",
    "cur = con.cursor()\n",
    "\n",
    "for index, row in pessoas.iterrows():\n",
    "    cur.execute(\"\"\"INSERT INTO public.pessoa(cpf) VALUES(%s);\"\"\",(row.CPF,))\n",
    "    con.commit()\n",
    "\n",
    "for index, row in contratos.iterrows():\n",
    "    cur.execute(\"\"\"INSERT INTO public.contratos(\n",
    "\tnumerounico, cnpj, modalidade, indicadorprefixado, datavencimentoultimaparcela, valorcontratadofuturo, quantidadeparcelas, pessoa_cpf)\n",
    "\tVALUES (%s,%s, %s, %s, %s, %s, %s, %s);\"\"\",(row.NumeroUnico, row.CNPJ, row.Modalidade, bool(row.IndicadorPreFixado), row.DataVencimentoUltimaParcela, row.ValorContratadoFuturo, row.QuantidadeParcelas, row.Pessoa_CPF))\n",
    "    con.commit()\n",
    "    \n",
    "cur.close()\n",
    "con.close()\n",
    "\n",
    "    "
   ]
  },
  {
   "cell_type": "code",
   "execution_count": 70,
   "metadata": {},
   "outputs": [
    {
     "data": {
      "text/plain": [
       "Index(['CNPJ', 'DataVencimento', 'Valor', 'DataPagamento', 'ValorPagamento',\n",
       "       'Contratos_NumeroUnico', 'Pessoa_CPF'],\n",
       "      dtype='object')"
      ]
     },
     "execution_count": 70,
     "metadata": {},
     "output_type": "execute_result"
    }
   ],
   "source": [
    "pagamentos.columns"
   ]
  },
  {
   "cell_type": "code",
   "execution_count": 92,
   "metadata": {},
   "outputs": [
    {
     "ename": "DatatypeMismatch",
     "evalue": "column \"datapagamento\" is of type date but expression is of type double precision\nLINE 3: ...UES ('00.000.000/0000-01', '09/02/2021', 16957.5, 'NaN'::flo...\n                                                             ^\nHINT:  You will need to rewrite or cast the expression.\n",
     "output_type": "error",
     "traceback": [
      "\u001b[1;31m---------------------------------------------------------------------------\u001b[0m",
      "\u001b[1;31mDatatypeMismatch\u001b[0m                          Traceback (most recent call last)",
      "Cell \u001b[1;32mIn[92], line 16\u001b[0m\n\u001b[0;32m     14\u001b[0m     \u001b[39melse\u001b[39;00m: \n\u001b[0;32m     15\u001b[0m         DataPagamento \u001b[39m=\u001b[39m row\u001b[39m.\u001b[39mDataPagamento\n\u001b[1;32m---> 16\u001b[0m     cur\u001b[39m.\u001b[39;49mexecute(\u001b[39m\"\"\"\u001b[39;49m\u001b[39mINSERT INTO public.pagamentos(\u001b[39;49m\n\u001b[0;32m     17\u001b[0m \u001b[39m\tcnpj, datavencimento, valor, datapagamento, valorpagamento, contratos_numerounico, pessoa_cpf)\u001b[39;49m\n\u001b[0;32m     18\u001b[0m \u001b[39m\tVALUES (\u001b[39;49m\u001b[39m%s\u001b[39;49;00m\u001b[39m, \u001b[39;49m\u001b[39m%s\u001b[39;49;00m\u001b[39m, \u001b[39;49m\u001b[39m%s\u001b[39;49;00m\u001b[39m, \u001b[39;49m\u001b[39m%s\u001b[39;49;00m\u001b[39m, \u001b[39;49m\u001b[39m%s\u001b[39;49;00m\u001b[39m, \u001b[39;49m\u001b[39m%s\u001b[39;49;00m\u001b[39m, \u001b[39;49m\u001b[39m%s\u001b[39;49;00m\u001b[39m);\u001b[39;49m\u001b[39m\"\"\"\u001b[39;49m,(row\u001b[39m.\u001b[39;49mCNPJ, row\u001b[39m.\u001b[39;49mDataVencimento, row\u001b[39m.\u001b[39;49mValor, DataPagamento , row\u001b[39m.\u001b[39;49mValorPagamento, row\u001b[39m.\u001b[39;49mContratos_NumeroUnico, row\u001b[39m.\u001b[39;49mPessoa_CPF))\n\u001b[0;32m     19\u001b[0m     con\u001b[39m.\u001b[39mcommit()\n\u001b[0;32m     22\u001b[0m cur\u001b[39m.\u001b[39mclose()\n",
      "\u001b[1;31mDatatypeMismatch\u001b[0m: column \"datapagamento\" is of type date but expression is of type double precision\nLINE 3: ...UES ('00.000.000/0000-01', '09/02/2021', 16957.5, 'NaN'::flo...\n                                                             ^\nHINT:  You will need to rewrite or cast the expression.\n"
     ]
    }
   ],
   "source": [
    "con = psycopg2.connect(\n",
    "    host = 'localhost',\n",
    "    database = 'Dataminds2',\n",
    "    user = 'Lander',\n",
    "    password = '1337'\n",
    ")\n",
    "\n",
    "\n",
    "cur = con.cursor()\n",
    "\n",
    "for index, row in pagamentos.iterrows():\n",
    "    if(row.DataPagamento =='NaN'): \n",
    "        DataPagamento = None \n",
    "    else: \n",
    "        DataPagamento = row.DataPagamento\n",
    "    cur.execute(\"\"\"INSERT INTO public.pagamentos(\n",
    "\tcnpj, datavencimento, valor, datapagamento, valorpagamento, contratos_numerounico, pessoa_cpf)\n",
    "\tVALUES (%s, %s, %s, %s, %s, %s, %s);\"\"\",(row.CNPJ, row.DataVencimento, row.Valor, DataPagamento , row.ValorPagamento, row.Contratos_NumeroUnico, row.Pessoa_CPF))\n",
    "    con.commit()\n",
    "\n",
    "    \n",
    "cur.close()\n",
    "con.close()\n"
   ]
  },
  {
   "cell_type": "code",
   "execution_count": 60,
   "metadata": {},
   "outputs": [],
   "source": [
    "cur.close()\n",
    "con.close()"
   ]
  },
  {
   "cell_type": "code",
   "execution_count": 53,
   "metadata": {},
   "outputs": [
    {
     "name": "stdout",
     "output_type": "stream",
     "text": [
      "<class 'str'>\n",
      "<class 'str'>\n"
     ]
    }
   ],
   "source": [
    "for index, row in pessoas.iterrows():\n",
    "    print(type(row['CPF']))"
   ]
  }
 ],
 "metadata": {
  "kernelspec": {
   "display_name": "Python 3",
   "language": "python",
   "name": "python3"
  },
  "language_info": {
   "codemirror_mode": {
    "name": "ipython",
    "version": 3
   },
   "file_extension": ".py",
   "mimetype": "text/x-python",
   "name": "python",
   "nbconvert_exporter": "python",
   "pygments_lexer": "ipython3",
   "version": "3.11.1"
  },
  "orig_nbformat": 4,
  "vscode": {
   "interpreter": {
    "hash": "18792fb2243ff27468d5b01a7d4302a04b11bcf9f9bbce0bb3bd290825d41d08"
   }
  }
 },
 "nbformat": 4,
 "nbformat_minor": 2
}
