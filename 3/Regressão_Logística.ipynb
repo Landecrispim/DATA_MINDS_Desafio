{
  "nbformat": 4,
  "nbformat_minor": 0,
  "metadata": {
    "colab": {
      "provenance": [],
      "authorship_tag": "ABX9TyP3BVV5RP6i9aSiUwIqbYC9",
      "include_colab_link": true
    },
    "kernelspec": {
      "name": "python3",
      "display_name": "Python 3"
    },
    "language_info": {
      "name": "python"
    }
  },
  "cells": [
    {
      "cell_type": "markdown",
      "metadata": {
        "id": "view-in-github",
        "colab_type": "text"
      },
      "source": [
        "<a href=\"https://colab.research.google.com/github/Landecrispim/DATA_MINDS_Desafio/blob/main/Regress%C3%A3o_Log%C3%ADstica.ipynb\" target=\"_parent\"><img src=\"https://colab.research.google.com/assets/colab-badge.svg\" alt=\"Open In Colab\"/></a>"
      ]
    },
    {
      "cell_type": "code",
      "execution_count": null,
      "metadata": {
        "id": "ly_g5FKZXWhe"
      },
      "outputs": [],
      "source": [
        "import pandas as pd\n",
        "import numpy as np\n",
        "import matplotlib.pyplot as plt\n",
        "import seaborn as sns\n",
        "%matplotlib inline\n",
        "\n",
        "import statsmodels.api as sm\n",
        "import statsmodels.formula.api as smf\n",
        "from sklearn.linear_model import LogisticRegression\n",
        "from sklearn.metrics import roc_auc_score, roc_curve, classification_report,\\\n",
        "                            accuracy_score, confusion_matrix, auc"
      ]
    },
    {
      "cell_type": "code",
      "source": [
        "colun = []\n",
        "for x  in range(1,22):\n",
        "  colun.append(\"X\"+str(x))\n",
        "\n",
        "colun"
      ],
      "metadata": {
        "colab": {
          "base_uri": "https://localhost:8080/"
        },
        "id": "5pfzR7hERcv_",
        "outputId": "a97bfd1d-0f9e-4f09-8cc0-709eee80edde"
      },
      "execution_count": 39,
      "outputs": [
        {
          "output_type": "execute_result",
          "data": {
            "text/plain": [
              "['X1',\n",
              " 'X2',\n",
              " 'X3',\n",
              " 'X4',\n",
              " 'X5',\n",
              " 'X6',\n",
              " 'X7',\n",
              " 'X8',\n",
              " 'X9',\n",
              " 'X10',\n",
              " 'X11',\n",
              " 'X12',\n",
              " 'X13',\n",
              " 'X14',\n",
              " 'X15',\n",
              " 'X16',\n",
              " 'X17',\n",
              " 'X18',\n",
              " 'X19',\n",
              " 'X20',\n",
              " 'X21']"
            ]
          },
          "metadata": {},
          "execution_count": 39
        }
      ]
    },
    {
      "cell_type": "code",
      "source": [
        "df = pd.read_table('/content/german.data',delimiter=' ',header=None)\n",
        "df.columns = colun"
      ],
      "metadata": {
        "id": "MAS3Ne3-P-aZ"
      },
      "execution_count": 40,
      "outputs": []
    },
    {
      "cell_type": "code",
      "source": [
        "df.head()"
      ],
      "metadata": {
        "id": "AeUGJ79wQQfa",
        "colab": {
          "base_uri": "https://localhost:8080/",
          "height": 300
        },
        "outputId": "ffd8970f-da46-46a4-e54b-af018aa24a56"
      },
      "execution_count": 41,
      "outputs": [
        {
          "output_type": "execute_result",
          "data": {
            "text/plain": [
              "    X1  X2   X3   X4    X5   X6   X7  X8   X9   X10  ...   X12 X13   X14  \\\n",
              "0  A11   6  A34  A43  1169  A65  A75   4  A93  A101  ...  A121  67  A143   \n",
              "1  A12  48  A32  A43  5951  A61  A73   2  A92  A101  ...  A121  22  A143   \n",
              "2  A14  12  A34  A46  2096  A61  A74   2  A93  A101  ...  A121  49  A143   \n",
              "3  A11  42  A32  A42  7882  A61  A74   2  A93  A103  ...  A122  45  A143   \n",
              "4  A11  24  A33  A40  4870  A61  A73   3  A93  A101  ...  A124  53  A143   \n",
              "\n",
              "    X15 X16   X17 X18   X19   X20 X21  \n",
              "0  A152   2  A173   1  A192  A201   1  \n",
              "1  A152   1  A173   1  A191  A201   2  \n",
              "2  A152   1  A172   2  A191  A201   1  \n",
              "3  A153   1  A173   2  A191  A201   1  \n",
              "4  A153   2  A173   2  A191  A201   2  \n",
              "\n",
              "[5 rows x 21 columns]"
            ],
            "text/html": [
              "\n",
              "  <div id=\"df-ca0bab46-8a6d-4099-afdb-ec9d1af8c189\">\n",
              "    <div class=\"colab-df-container\">\n",
              "      <div>\n",
              "<style scoped>\n",
              "    .dataframe tbody tr th:only-of-type {\n",
              "        vertical-align: middle;\n",
              "    }\n",
              "\n",
              "    .dataframe tbody tr th {\n",
              "        vertical-align: top;\n",
              "    }\n",
              "\n",
              "    .dataframe thead th {\n",
              "        text-align: right;\n",
              "    }\n",
              "</style>\n",
              "<table border=\"1\" class=\"dataframe\">\n",
              "  <thead>\n",
              "    <tr style=\"text-align: right;\">\n",
              "      <th></th>\n",
              "      <th>X1</th>\n",
              "      <th>X2</th>\n",
              "      <th>X3</th>\n",
              "      <th>X4</th>\n",
              "      <th>X5</th>\n",
              "      <th>X6</th>\n",
              "      <th>X7</th>\n",
              "      <th>X8</th>\n",
              "      <th>X9</th>\n",
              "      <th>X10</th>\n",
              "      <th>...</th>\n",
              "      <th>X12</th>\n",
              "      <th>X13</th>\n",
              "      <th>X14</th>\n",
              "      <th>X15</th>\n",
              "      <th>X16</th>\n",
              "      <th>X17</th>\n",
              "      <th>X18</th>\n",
              "      <th>X19</th>\n",
              "      <th>X20</th>\n",
              "      <th>X21</th>\n",
              "    </tr>\n",
              "  </thead>\n",
              "  <tbody>\n",
              "    <tr>\n",
              "      <th>0</th>\n",
              "      <td>A11</td>\n",
              "      <td>6</td>\n",
              "      <td>A34</td>\n",
              "      <td>A43</td>\n",
              "      <td>1169</td>\n",
              "      <td>A65</td>\n",
              "      <td>A75</td>\n",
              "      <td>4</td>\n",
              "      <td>A93</td>\n",
              "      <td>A101</td>\n",
              "      <td>...</td>\n",
              "      <td>A121</td>\n",
              "      <td>67</td>\n",
              "      <td>A143</td>\n",
              "      <td>A152</td>\n",
              "      <td>2</td>\n",
              "      <td>A173</td>\n",
              "      <td>1</td>\n",
              "      <td>A192</td>\n",
              "      <td>A201</td>\n",
              "      <td>1</td>\n",
              "    </tr>\n",
              "    <tr>\n",
              "      <th>1</th>\n",
              "      <td>A12</td>\n",
              "      <td>48</td>\n",
              "      <td>A32</td>\n",
              "      <td>A43</td>\n",
              "      <td>5951</td>\n",
              "      <td>A61</td>\n",
              "      <td>A73</td>\n",
              "      <td>2</td>\n",
              "      <td>A92</td>\n",
              "      <td>A101</td>\n",
              "      <td>...</td>\n",
              "      <td>A121</td>\n",
              "      <td>22</td>\n",
              "      <td>A143</td>\n",
              "      <td>A152</td>\n",
              "      <td>1</td>\n",
              "      <td>A173</td>\n",
              "      <td>1</td>\n",
              "      <td>A191</td>\n",
              "      <td>A201</td>\n",
              "      <td>2</td>\n",
              "    </tr>\n",
              "    <tr>\n",
              "      <th>2</th>\n",
              "      <td>A14</td>\n",
              "      <td>12</td>\n",
              "      <td>A34</td>\n",
              "      <td>A46</td>\n",
              "      <td>2096</td>\n",
              "      <td>A61</td>\n",
              "      <td>A74</td>\n",
              "      <td>2</td>\n",
              "      <td>A93</td>\n",
              "      <td>A101</td>\n",
              "      <td>...</td>\n",
              "      <td>A121</td>\n",
              "      <td>49</td>\n",
              "      <td>A143</td>\n",
              "      <td>A152</td>\n",
              "      <td>1</td>\n",
              "      <td>A172</td>\n",
              "      <td>2</td>\n",
              "      <td>A191</td>\n",
              "      <td>A201</td>\n",
              "      <td>1</td>\n",
              "    </tr>\n",
              "    <tr>\n",
              "      <th>3</th>\n",
              "      <td>A11</td>\n",
              "      <td>42</td>\n",
              "      <td>A32</td>\n",
              "      <td>A42</td>\n",
              "      <td>7882</td>\n",
              "      <td>A61</td>\n",
              "      <td>A74</td>\n",
              "      <td>2</td>\n",
              "      <td>A93</td>\n",
              "      <td>A103</td>\n",
              "      <td>...</td>\n",
              "      <td>A122</td>\n",
              "      <td>45</td>\n",
              "      <td>A143</td>\n",
              "      <td>A153</td>\n",
              "      <td>1</td>\n",
              "      <td>A173</td>\n",
              "      <td>2</td>\n",
              "      <td>A191</td>\n",
              "      <td>A201</td>\n",
              "      <td>1</td>\n",
              "    </tr>\n",
              "    <tr>\n",
              "      <th>4</th>\n",
              "      <td>A11</td>\n",
              "      <td>24</td>\n",
              "      <td>A33</td>\n",
              "      <td>A40</td>\n",
              "      <td>4870</td>\n",
              "      <td>A61</td>\n",
              "      <td>A73</td>\n",
              "      <td>3</td>\n",
              "      <td>A93</td>\n",
              "      <td>A101</td>\n",
              "      <td>...</td>\n",
              "      <td>A124</td>\n",
              "      <td>53</td>\n",
              "      <td>A143</td>\n",
              "      <td>A153</td>\n",
              "      <td>2</td>\n",
              "      <td>A173</td>\n",
              "      <td>2</td>\n",
              "      <td>A191</td>\n",
              "      <td>A201</td>\n",
              "      <td>2</td>\n",
              "    </tr>\n",
              "  </tbody>\n",
              "</table>\n",
              "<p>5 rows × 21 columns</p>\n",
              "</div>\n",
              "      <button class=\"colab-df-convert\" onclick=\"convertToInteractive('df-ca0bab46-8a6d-4099-afdb-ec9d1af8c189')\"\n",
              "              title=\"Convert this dataframe to an interactive table.\"\n",
              "              style=\"display:none;\">\n",
              "        \n",
              "  <svg xmlns=\"http://www.w3.org/2000/svg\" height=\"24px\"viewBox=\"0 0 24 24\"\n",
              "       width=\"24px\">\n",
              "    <path d=\"M0 0h24v24H0V0z\" fill=\"none\"/>\n",
              "    <path d=\"M18.56 5.44l.94 2.06.94-2.06 2.06-.94-2.06-.94-.94-2.06-.94 2.06-2.06.94zm-11 1L8.5 8.5l.94-2.06 2.06-.94-2.06-.94L8.5 2.5l-.94 2.06-2.06.94zm10 10l.94 2.06.94-2.06 2.06-.94-2.06-.94-.94-2.06-.94 2.06-2.06.94z\"/><path d=\"M17.41 7.96l-1.37-1.37c-.4-.4-.92-.59-1.43-.59-.52 0-1.04.2-1.43.59L10.3 9.45l-7.72 7.72c-.78.78-.78 2.05 0 2.83L4 21.41c.39.39.9.59 1.41.59.51 0 1.02-.2 1.41-.59l7.78-7.78 2.81-2.81c.8-.78.8-2.07 0-2.86zM5.41 20L4 18.59l7.72-7.72 1.47 1.35L5.41 20z\"/>\n",
              "  </svg>\n",
              "      </button>\n",
              "      \n",
              "  <style>\n",
              "    .colab-df-container {\n",
              "      display:flex;\n",
              "      flex-wrap:wrap;\n",
              "      gap: 12px;\n",
              "    }\n",
              "\n",
              "    .colab-df-convert {\n",
              "      background-color: #E8F0FE;\n",
              "      border: none;\n",
              "      border-radius: 50%;\n",
              "      cursor: pointer;\n",
              "      display: none;\n",
              "      fill: #1967D2;\n",
              "      height: 32px;\n",
              "      padding: 0 0 0 0;\n",
              "      width: 32px;\n",
              "    }\n",
              "\n",
              "    .colab-df-convert:hover {\n",
              "      background-color: #E2EBFA;\n",
              "      box-shadow: 0px 1px 2px rgba(60, 64, 67, 0.3), 0px 1px 3px 1px rgba(60, 64, 67, 0.15);\n",
              "      fill: #174EA6;\n",
              "    }\n",
              "\n",
              "    [theme=dark] .colab-df-convert {\n",
              "      background-color: #3B4455;\n",
              "      fill: #D2E3FC;\n",
              "    }\n",
              "\n",
              "    [theme=dark] .colab-df-convert:hover {\n",
              "      background-color: #434B5C;\n",
              "      box-shadow: 0px 1px 3px 1px rgba(0, 0, 0, 0.15);\n",
              "      filter: drop-shadow(0px 1px 2px rgba(0, 0, 0, 0.3));\n",
              "      fill: #FFFFFF;\n",
              "    }\n",
              "  </style>\n",
              "\n",
              "      <script>\n",
              "        const buttonEl =\n",
              "          document.querySelector('#df-ca0bab46-8a6d-4099-afdb-ec9d1af8c189 button.colab-df-convert');\n",
              "        buttonEl.style.display =\n",
              "          google.colab.kernel.accessAllowed ? 'block' : 'none';\n",
              "\n",
              "        async function convertToInteractive(key) {\n",
              "          const element = document.querySelector('#df-ca0bab46-8a6d-4099-afdb-ec9d1af8c189');\n",
              "          const dataTable =\n",
              "            await google.colab.kernel.invokeFunction('convertToInteractive',\n",
              "                                                     [key], {});\n",
              "          if (!dataTable) return;\n",
              "\n",
              "          const docLinkHtml = 'Like what you see? Visit the ' +\n",
              "            '<a target=\"_blank\" href=https://colab.research.google.com/notebooks/data_table.ipynb>data table notebook</a>'\n",
              "            + ' to learn more about interactive tables.';\n",
              "          element.innerHTML = '';\n",
              "          dataTable['output_type'] = 'display_data';\n",
              "          await google.colab.output.renderOutput(dataTable, element);\n",
              "          const docLink = document.createElement('div');\n",
              "          docLink.innerHTML = docLinkHtml;\n",
              "          element.appendChild(docLink);\n",
              "        }\n",
              "      </script>\n",
              "    </div>\n",
              "  </div>\n",
              "  "
            ]
          },
          "metadata": {},
          "execution_count": 41
        }
      ]
    },
    {
      "cell_type": "code",
      "source": [
        "def freq(x: pd.Series, plot=False):\n",
        "    contagem = x.value_counts()\n",
        "    percentual = round((x.value_counts() / x.shape[0]) * 100, 3)\n",
        "    res = pd.DataFrame({'values': x.unique(), 'n': contagem, 'perc': percentual})\n",
        "    if plot:\n",
        "        sns.countplot(x)\n",
        "        plt.show()\n",
        "    return res"
      ],
      "metadata": {
        "id": "jVk2hzzqQfnq"
      },
      "execution_count": 42,
      "outputs": []
    },
    {
      "cell_type": "code",
      "source": [],
      "metadata": {
        "id": "NlKA6nuQVoR4"
      },
      "execution_count": null,
      "outputs": []
    },
    {
      "cell_type": "code",
      "source": [
        "(df['X21'].value_counts() / df.shape[0]) * 100\n"
      ],
      "metadata": {
        "colab": {
          "base_uri": "https://localhost:8080/"
        },
        "id": "1tR7tXi-Q3Ws",
        "outputId": "5aab0efd-da47-4ee1-ee65-f66f83c088c2"
      },
      "execution_count": 43,
      "outputs": [
        {
          "output_type": "execute_result",
          "data": {
            "text/plain": [
              "1    70.0\n",
              "2    30.0\n",
              "Name: X21, dtype: float64"
            ]
          },
          "metadata": {},
          "execution_count": 43
        }
      ]
    },
    {
      "cell_type": "code",
      "source": [
        "freq(df['X21'], plot=True)"
      ],
      "metadata": {
        "colab": {
          "base_uri": "https://localhost:8080/",
          "height": 429
        },
        "id": "j2GIjiOFR5aa",
        "outputId": "1998bbcb-43ee-44ac-c256-2681dccef4ef"
      },
      "execution_count": 44,
      "outputs": [
        {
          "output_type": "stream",
          "name": "stderr",
          "text": [
            "/usr/local/lib/python3.8/dist-packages/seaborn/_decorators.py:36: FutureWarning: Pass the following variable as a keyword arg: x. From version 0.12, the only valid positional argument will be `data`, and passing other arguments without an explicit keyword will result in an error or misinterpretation.\n",
            "  warnings.warn(\n"
          ]
        },
        {
          "output_type": "display_data",
          "data": {
            "text/plain": [
              "<Figure size 432x288 with 1 Axes>"
            ],
            "image/png": "[encoded data removed]"
          },
          "metadata": {
            "needs_background": "light"
          }
        },
        {
          "output_type": "execute_result",
          "data": {
            "text/plain": [
              "   values    n  perc\n",
              "1       1  700  70.0\n",
              "2       2  300  30.0"
            ],
            "text/html": [
              "\n",
              "  <div id=\"df-1d486a80-0112-4e13-92e9-47a062cb9d8b\">\n",
              "    <div class=\"colab-df-container\">\n",
              "      <div>\n",
              "<style scoped>\n",
              "    .dataframe tbody tr th:only-of-type {\n",
              "        vertical-align: middle;\n",
              "    }\n",
              "\n",
              "    .dataframe tbody tr th {\n",
              "        vertical-align: top;\n",
              "    }\n",
              "\n",
              "    .dataframe thead th {\n",
              "        text-align: right;\n",
              "    }\n",
              "</style>\n",
              "<table border=\"1\" class=\"dataframe\">\n",
              "  <thead>\n",
              "    <tr style=\"text-align: right;\">\n",
              "      <th></th>\n",
              "      <th>values</th>\n",
              "      <th>n</th>\n",
              "      <th>perc</th>\n",
              "    </tr>\n",
              "  </thead>\n",
              "  <tbody>\n",
              "    <tr>\n",
              "      <th>1</th>\n",
              "      <td>1</td>\n",
              "      <td>700</td>\n",
              "      <td>70.0</td>\n",
              "    </tr>\n",
              "    <tr>\n",
              "      <th>2</th>\n",
              "      <td>2</td>\n",
              "      <td>300</td>\n",
              "      <td>30.0</td>\n",
              "    </tr>\n",
              "  </tbody>\n",
              "</table>\n",
              "</div>\n",
              "      <button class=\"colab-df-convert\" onclick=\"convertToInteractive('df-1d486a80-0112-4e13-92e9-47a062cb9d8b')\"\n",
              "              title=\"Convert this dataframe to an interactive table.\"\n",
              "              style=\"display:none;\">\n",
              "        \n",
              "  <svg xmlns=\"http://www.w3.org/2000/svg\" height=\"24px\"viewBox=\"0 0 24 24\"\n",
              "       width=\"24px\">\n",
              "    <path d=\"M0 0h24v24H0V0z\" fill=\"none\"/>\n",
              "    <path d=\"M18.56 5.44l.94 2.06.94-2.06 2.06-.94-2.06-.94-.94-2.06-.94 2.06-2.06.94zm-11 1L8.5 8.5l.94-2.06 2.06-.94-2.06-.94L8.5 2.5l-.94 2.06-2.06.94zm10 10l.94 2.06.94-2.06 2.06-.94-2.06-.94-.94-2.06-.94 2.06-2.06.94z\"/><path d=\"M17.41 7.96l-1.37-1.37c-.4-.4-.92-.59-1.43-.59-.52 0-1.04.2-1.43.59L10.3 9.45l-7.72 7.72c-.78.78-.78 2.05 0 2.83L4 21.41c.39.39.9.59 1.41.59.51 0 1.02-.2 1.41-.59l7.78-7.78 2.81-2.81c.8-.78.8-2.07 0-2.86zM5.41 20L4 18.59l7.72-7.72 1.47 1.35L5.41 20z\"/>\n",
              "  </svg>\n",
              "      </button>\n",
              "      \n",
              "  <style>\n",
              "    .colab-df-container {\n",
              "      display:flex;\n",
              "      flex-wrap:wrap;\n",
              "      gap: 12px;\n",
              "    }\n",
              "\n",
              "    .colab-df-convert {\n",
              "      background-color: #E8F0FE;\n",
              "      border: none;\n",
              "      border-radius: 50%;\n",
              "      cursor: pointer;\n",
              "      display: none;\n",
              "      fill: #1967D2;\n",
              "      height: 32px;\n",
              "      padding: 0 0 0 0;\n",
              "      width: 32px;\n",
              "    }\n",
              "\n",
              "    .colab-df-convert:hover {\n",
              "      background-color: #E2EBFA;\n",
              "      box-shadow: 0px 1px 2px rgba(60, 64, 67, 0.3), 0px 1px 3px 1px rgba(60, 64, 67, 0.15);\n",
              "      fill: #174EA6;\n",
              "    }\n",
              "\n",
              "    [theme=dark] .colab-df-convert {\n",
              "      background-color: #3B4455;\n",
              "      fill: #D2E3FC;\n",
              "    }\n",
              "\n",
              "    [theme=dark] .colab-df-convert:hover {\n",
              "      background-color: #434B5C;\n",
              "      box-shadow: 0px 1px 3px 1px rgba(0, 0, 0, 0.15);\n",
              "      filter: drop-shadow(0px 1px 2px rgba(0, 0, 0, 0.3));\n",
              "      fill: #FFFFFF;\n",
              "    }\n",
              "  </style>\n",
              "\n",
              "      <script>\n",
              "        const buttonEl =\n",
              "          document.querySelector('#df-1d486a80-0112-4e13-92e9-47a062cb9d8b button.colab-df-convert');\n",
              "        buttonEl.style.display =\n",
              "          google.colab.kernel.accessAllowed ? 'block' : 'none';\n",
              "\n",
              "        async function convertToInteractive(key) {\n",
              "          const element = document.querySelector('#df-1d486a80-0112-4e13-92e9-47a062cb9d8b');\n",
              "          const dataTable =\n",
              "            await google.colab.kernel.invokeFunction('convertToInteractive',\n",
              "                                                     [key], {});\n",
              "          if (!dataTable) return;\n",
              "\n",
              "          const docLinkHtml = 'Like what you see? Visit the ' +\n",
              "            '<a target=\"_blank\" href=https://colab.research.google.com/notebooks/data_table.ipynb>data table notebook</a>'\n",
              "            + ' to learn more about interactive tables.';\n",
              "          element.innerHTML = '';\n",
              "          dataTable['output_type'] = 'display_data';\n",
              "          await google.colab.output.renderOutput(dataTable, element);\n",
              "          const docLink = document.createElement('div');\n",
              "          docLink.innerHTML = docLinkHtml;\n",
              "          element.appendChild(docLink);\n",
              "        }\n",
              "      </script>\n",
              "    </div>\n",
              "  </div>\n",
              "  "
            ]
          },
          "metadata": {},
          "execution_count": 44
        }
      ]
    },
    {
      "cell_type": "code",
      "source": [
        "df.describe()"
      ],
      "metadata": {
        "colab": {
          "base_uri": "https://localhost:8080/",
          "height": 364
        },
        "id": "22kbToexR-bL",
        "outputId": "8cb3bfc0-d37a-4bf5-ac4b-4763dd99d086"
      },
      "execution_count": 45,
      "outputs": [
        {
          "output_type": "execute_result",
          "data": {
            "text/plain": [
              "                X2            X5           X8          X11          X13  \\\n",
              "count  1000.000000   1000.000000  1000.000000  1000.000000  1000.000000   \n",
              "mean     20.903000   3271.258000     2.973000     2.845000    35.546000   \n",
              "std      12.058814   2822.736876     1.118715     1.103718    11.375469   \n",
              "min       4.000000    250.000000     1.000000     1.000000    19.000000   \n",
              "25%      12.000000   1365.500000     2.000000     2.000000    27.000000   \n",
              "50%      18.000000   2319.500000     3.000000     3.000000    33.000000   \n",
              "75%      24.000000   3972.250000     4.000000     4.000000    42.000000   \n",
              "max      72.000000  18424.000000     4.000000     4.000000    75.000000   \n",
              "\n",
              "               X16          X18          X21  \n",
              "count  1000.000000  1000.000000  1000.000000  \n",
              "mean      1.407000     1.155000     1.300000  \n",
              "std       0.577654     0.362086     0.458487  \n",
              "min       1.000000     1.000000     1.000000  \n",
              "25%       1.000000     1.000000     1.000000  \n",
              "50%       1.000000     1.000000     1.000000  \n",
              "75%       2.000000     1.000000     2.000000  \n",
              "max       4.000000     2.000000     2.000000  "
            ],
            "text/html": [
              "\n",
              "  <div id=\"df-14b8d299-1445-40ca-ae78-187dd7ac1cfa\">\n",
              "    <div class=\"colab-df-container\">\n",
              "      <div>\n",
              "<style scoped>\n",
              "    .dataframe tbody tr th:only-of-type {\n",
              "        vertical-align: middle;\n",
              "    }\n",
              "\n",
              "    .dataframe tbody tr th {\n",
              "        vertical-align: top;\n",
              "    }\n",
              "\n",
              "    .dataframe thead th {\n",
              "        text-align: right;\n",
              "    }\n",
              "</style>\n",
              "<table border=\"1\" class=\"dataframe\">\n",
              "  <thead>\n",
              "    <tr style=\"text-align: right;\">\n",
              "      <th></th>\n",
              "      <th>X2</th>\n",
              "      <th>X5</th>\n",
              "      <th>X8</th>\n",
              "      <th>X11</th>\n",
              "      <th>X13</th>\n",
              "      <th>X16</th>\n",
              "      <th>X18</th>\n",
              "      <th>X21</th>\n",
              "    </tr>\n",
              "  </thead>\n",
              "  <tbody>\n",
              "    <tr>\n",
              "      <th>count</th>\n",
              "      <td>1000.000000</td>\n",
              "      <td>1000.000000</td>\n",
              "      <td>1000.000000</td>\n",
              "      <td>1000.000000</td>\n",
              "      <td>1000.000000</td>\n",
              "      <td>1000.000000</td>\n",
              "      <td>1000.000000</td>\n",
              "      <td>1000.000000</td>\n",
              "    </tr>\n",
              "    <tr>\n",
              "      <th>mean</th>\n",
              "      <td>20.903000</td>\n",
              "      <td>3271.258000</td>\n",
              "      <td>2.973000</td>\n",
              "      <td>2.845000</td>\n",
              "      <td>35.546000</td>\n",
              "      <td>1.407000</td>\n",
              "      <td>1.155000</td>\n",
              "      <td>1.300000</td>\n",
              "    </tr>\n",
              "    <tr>\n",
              "      <th>std</th>\n",
              "      <td>12.058814</td>\n",
              "      <td>2822.736876</td>\n",
              "      <td>1.118715</td>\n",
              "      <td>1.103718</td>\n",
              "      <td>11.375469</td>\n",
              "      <td>0.577654</td>\n",
              "      <td>0.362086</td>\n",
              "      <td>0.458487</td>\n",
              "    </tr>\n",
              "    <tr>\n",
              "      <th>min</th>\n",
              "      <td>4.000000</td>\n",
              "      <td>250.000000</td>\n",
              "      <td>1.000000</td>\n",
              "      <td>1.000000</td>\n",
              "      <td>19.000000</td>\n",
              "      <td>1.000000</td>\n",
              "      <td>1.000000</td>\n",
              "      <td>1.000000</td>\n",
              "    </tr>\n",
              "    <tr>\n",
              "      <th>25%</th>\n",
              "      <td>12.000000</td>\n",
              "      <td>1365.500000</td>\n",
              "      <td>2.000000</td>\n",
              "      <td>2.000000</td>\n",
              "      <td>27.000000</td>\n",
              "      <td>1.000000</td>\n",
              "      <td>1.000000</td>\n",
              "      <td>1.000000</td>\n",
              "    </tr>\n",
              "    <tr>\n",
              "      <th>50%</th>\n",
              "      <td>18.000000</td>\n",
              "      <td>2319.500000</td>\n",
              "      <td>3.000000</td>\n",
              "      <td>3.000000</td>\n",
              "      <td>33.000000</td>\n",
              "      <td>1.000000</td>\n",
              "      <td>1.000000</td>\n",
              "      <td>1.000000</td>\n",
              "    </tr>\n",
              "    <tr>\n",
              "      <th>75%</th>\n",
              "      <td>24.000000</td>\n",
              "      <td>3972.250000</td>\n",
              "      <td>4.000000</td>\n",
              "      <td>4.000000</td>\n",
              "      <td>42.000000</td>\n",
              "      <td>2.000000</td>\n",
              "      <td>1.000000</td>\n",
              "      <td>2.000000</td>\n",
              "    </tr>\n",
              "    <tr>\n",
              "      <th>max</th>\n",
              "      <td>72.000000</td>\n",
              "      <td>18424.000000</td>\n",
              "      <td>4.000000</td>\n",
              "      <td>4.000000</td>\n",
              "      <td>75.000000</td>\n",
              "      <td>4.000000</td>\n",
              "      <td>2.000000</td>\n",
              "      <td>2.000000</td>\n",
              "    </tr>\n",
              "  </tbody>\n",
              "</table>\n",
              "</div>\n",
              "      <button class=\"colab-df-convert\" onclick=\"convertToInteractive('df-14b8d299-1445-40ca-ae78-187dd7ac1cfa')\"\n",
              "              title=\"Convert this dataframe to an interactive table.\"\n",
              "              style=\"display:none;\">\n",
              "        \n",
              "  <svg xmlns=\"http://www.w3.org/2000/svg\" height=\"24px\"viewBox=\"0 0 24 24\"\n",
              "       width=\"24px\">\n",
              "    <path d=\"M0 0h24v24H0V0z\" fill=\"none\"/>\n",
              "    <path d=\"M18.56 5.44l.94 2.06.94-2.06 2.06-.94-2.06-.94-.94-2.06-.94 2.06-2.06.94zm-11 1L8.5 8.5l.94-2.06 2.06-.94-2.06-.94L8.5 2.5l-.94 2.06-2.06.94zm10 10l.94 2.06.94-2.06 2.06-.94-2.06-.94-.94-2.06-.94 2.06-2.06.94z\"/><path d=\"M17.41 7.96l-1.37-1.37c-.4-.4-.92-.59-1.43-.59-.52 0-1.04.2-1.43.59L10.3 9.45l-7.72 7.72c-.78.78-.78 2.05 0 2.83L4 21.41c.39.39.9.59 1.41.59.51 0 1.02-.2 1.41-.59l7.78-7.78 2.81-2.81c.8-.78.8-2.07 0-2.86zM5.41 20L4 18.59l7.72-7.72 1.47 1.35L5.41 20z\"/>\n",
              "  </svg>\n",
              "      </button>\n",
              "      \n",
              "  <style>\n",
              "    .colab-df-container {\n",
              "      display:flex;\n",
              "      flex-wrap:wrap;\n",
              "      gap: 12px;\n",
              "    }\n",
              "\n",
              "    .colab-df-convert {\n",
              "      background-color: #E8F0FE;\n",
              "      border: none;\n",
              "      border-radius: 50%;\n",
              "      cursor: pointer;\n",
              "      display: none;\n",
              "      fill: #1967D2;\n",
              "      height: 32px;\n",
              "      padding: 0 0 0 0;\n",
              "      width: 32px;\n",
              "    }\n",
              "\n",
              "    .colab-df-convert:hover {\n",
              "      background-color: #E2EBFA;\n",
              "      box-shadow: 0px 1px 2px rgba(60, 64, 67, 0.3), 0px 1px 3px 1px rgba(60, 64, 67, 0.15);\n",
              "      fill: #174EA6;\n",
              "    }\n",
              "\n",
              "    [theme=dark] .colab-df-convert {\n",
              "      background-color: #3B4455;\n",
              "      fill: #D2E3FC;\n",
              "    }\n",
              "\n",
              "    [theme=dark] .colab-df-convert:hover {\n",
              "      background-color: #434B5C;\n",
              "      box-shadow: 0px 1px 3px 1px rgba(0, 0, 0, 0.15);\n",
              "      filter: drop-shadow(0px 1px 2px rgba(0, 0, 0, 0.3));\n",
              "      fill: #FFFFFF;\n",
              "    }\n",
              "  </style>\n",
              "\n",
              "      <script>\n",
              "        const buttonEl =\n",
              "          document.querySelector('#df-14b8d299-1445-40ca-ae78-187dd7ac1cfa button.colab-df-convert');\n",
              "        buttonEl.style.display =\n",
              "          google.colab.kernel.accessAllowed ? 'block' : 'none';\n",
              "\n",
              "        async function convertToInteractive(key) {\n",
              "          const element = document.querySelector('#df-14b8d299-1445-40ca-ae78-187dd7ac1cfa');\n",
              "          const dataTable =\n",
              "            await google.colab.kernel.invokeFunction('convertToInteractive',\n",
              "                                                     [key], {});\n",
              "          if (!dataTable) return;\n",
              "\n",
              "          const docLinkHtml = 'Like what you see? Visit the ' +\n",
              "            '<a target=\"_blank\" href=https://colab.research.google.com/notebooks/data_table.ipynb>data table notebook</a>'\n",
              "            + ' to learn more about interactive tables.';\n",
              "          element.innerHTML = '';\n",
              "          dataTable['output_type'] = 'display_data';\n",
              "          await google.colab.output.renderOutput(dataTable, element);\n",
              "          const docLink = document.createElement('div');\n",
              "          docLink.innerHTML = docLinkHtml;\n",
              "          element.appendChild(docLink);\n",
              "        }\n",
              "      </script>\n",
              "    </div>\n",
              "  </div>\n",
              "  "
            ]
          },
          "metadata": {},
          "execution_count": 45
        }
      ]
    },
    {
      "cell_type": "code",
      "source": [
        "modelo = smf.glm(formula='X21 ~ X1 + X2 + X3 + X4 + X5 + X6 + X7 + X8 + X9 + X10 + X11 + X12 + X13 + X14 + X15 + X16 + X17 + X18 + X19 + X20 ', data=df,\n",
        "                family = sm.families.Binomial()).fit()\n",
        "print(modelo.summary())"
      ],
      "metadata": {
        "colab": {
          "base_uri": "https://localhost:8080/"
        },
        "id": "I0szcHgWSJJD",
        "outputId": "902b792b-a3fc-45be-c08b-bcea769ded7a"
      },
      "execution_count": 48,
      "outputs": [
        {
          "output_type": "stream",
          "name": "stderr",
          "text": [
            "/usr/local/lib/python3.8/dist-packages/statsmodels/genmod/families/links.py:188: RuntimeWarning: overflow encountered in exp\n",
            "  t = np.exp(-z)\n"
          ]
        },
        {
          "output_type": "stream",
          "name": "stdout",
          "text": [
            "                 Generalized Linear Model Regression Results                  \n",
            "==============================================================================\n",
            "Dep. Variable:                    X21   No. Observations:                 1000\n",
            "Model:                            GLM   Df Residuals:                      951\n",
            "Model Family:                Binomial   Df Model:                           48\n",
            "Link Function:                  logit   Scale:                          1.0000\n",
            "Method:                          IRLS   Log-Likelihood:                   -inf\n",
            "Date:                Tue, 14 Feb 2023   Deviance:                       24761.\n",
            "Time:                        23:51:35   Pearson chi2:                 1.46e+18\n",
            "No. Iterations:                    58                                         \n",
            "Covariance Type:            nonrobust                                         \n",
            "===============================================================================\n",
            "                  coef    std err          z      P>|z|      [0.025      0.975]\n",
            "-------------------------------------------------------------------------------\n",
            "Intercept    1.455e+17    2.9e+07   5.03e+09      0.000    1.46e+17    1.46e+17\n",
            "X1[T.A12]   -2.177e+16    6.2e+06  -3.51e+09      0.000   -2.18e+16   -2.18e+16\n",
            "X1[T.A13]   -4.896e+16   9.73e+06  -5.03e+09      0.000    -4.9e+16    -4.9e+16\n",
            "X1[T.A14]   -6.099e+16   5.81e+06  -1.05e+10      0.000    -6.1e+16    -6.1e+16\n",
            "X3[T.A31]   -1.319e+15   1.52e+07  -8.67e+07      0.000   -1.32e+15   -1.32e+15\n",
            "X3[T.A32]   -4.296e+16   1.19e+07   -3.6e+09      0.000    -4.3e+16    -4.3e+16\n",
            "X3[T.A33]   -5.126e+16   1.31e+07  -3.91e+09      0.000   -5.13e+16   -5.13e+16\n",
            "X3[T.A34]   -6.042e+16   1.21e+07     -5e+09      0.000   -6.04e+16   -6.04e+16\n",
            "X4[T.A41]   -4.047e+16   8.44e+06  -4.79e+09      0.000   -4.05e+16   -4.05e+16\n",
            "X4[T.A410]  -5.022e+16   2.11e+07  -2.38e+09      0.000   -5.02e+16   -5.02e+16\n",
            "X4[T.A42]   -2.175e+16   6.98e+06  -3.12e+09      0.000   -2.18e+16   -2.18e+16\n",
            "X4[T.A43]   -2.286e+16   6.29e+06  -3.63e+09      0.000   -2.29e+16   -2.29e+16\n",
            "X4[T.A44]   -1.498e+16   2.02e+07  -7.42e+08      0.000    -1.5e+16    -1.5e+16\n",
            "X4[T.A45]   -6.597e+15   1.53e+07  -4.32e+08      0.000    -6.6e+15    -6.6e+15\n",
            "X4[T.A46]    8.496e+15   1.08e+07    7.9e+08      0.000     8.5e+15     8.5e+15\n",
            "X4[T.A48]   -3.685e+16   2.34e+07  -1.57e+09      0.000   -3.68e+16   -3.68e+16\n",
            "X4[T.A49]   -1.881e+16   8.69e+06  -2.16e+09      0.000   -1.88e+16   -1.88e+16\n",
            "X6[T.A62]   -1.168e+16   7.48e+06  -1.56e+09      0.000   -1.17e+16   -1.17e+16\n",
            "X6[T.A63]   -1.821e+16   9.24e+06  -1.97e+09      0.000   -1.82e+16   -1.82e+16\n",
            "X6[T.A64]   -2.648e+16   1.04e+07  -2.55e+09      0.000   -2.65e+16   -2.65e+16\n",
            "X6[T.A65]   -2.086e+16   6.01e+06  -3.47e+09      0.000   -2.09e+16   -2.09e+16\n",
            "X7[T.A72]    1.831e+15   1.17e+07   1.57e+08      0.000    1.83e+15    1.83e+15\n",
            "X7[T.A73]   -3.262e+15   1.12e+07  -2.92e+08      0.000   -3.26e+15   -3.26e+15\n",
            "X7[T.A74]   -1.872e+16   1.17e+07   -1.6e+09      0.000   -1.87e+16   -1.87e+16\n",
            "X7[T.A75]   -1.057e+16   1.11e+07  -9.48e+08      0.000   -1.06e+16   -1.06e+16\n",
            "X9[T.A92]   -9.606e+15   1.06e+07  -9.07e+08      0.000   -9.61e+15   -9.61e+15\n",
            "X9[T.A93]   -2.252e+16   1.03e+07  -2.18e+09      0.000   -2.25e+16   -2.25e+16\n",
            "X9[T.A94]   -1.354e+16   1.23e+07   -1.1e+09      0.000   -1.35e+16   -1.35e+16\n",
            "X10[T.A102]   2.21e+16   1.12e+07   1.98e+09      0.000    2.21e+16    2.21e+16\n",
            "X10[T.A103] -3.309e+16   1.02e+07  -3.24e+09      0.000   -3.31e+16   -3.31e+16\n",
            "X12[T.A122]  1.042e+16   6.31e+06   1.65e+09      0.000    1.04e+16    1.04e+16\n",
            "X12[T.A123]  8.354e+15   5.99e+06   1.39e+09      0.000    8.35e+15    8.35e+15\n",
            "X12[T.A124]   2.88e+16   1.07e+07   2.69e+09      0.000    2.88e+16    2.88e+16\n",
            "X14[T.A142]  7.045e+14   1.16e+07   6.05e+07      0.000    7.05e+14    7.05e+14\n",
            "X14[T.A143] -1.355e+16   6.57e+06  -2.06e+09      0.000   -1.35e+16   -1.35e+16\n",
            "X15[T.A152] -1.217e+16   6.24e+06  -1.95e+09      0.000   -1.22e+16   -1.22e+16\n",
            "X15[T.A153] -2.605e+16   1.22e+07  -2.14e+09      0.000    -2.6e+16    -2.6e+16\n",
            "X17[T.A172]  1.889e+16   1.75e+07   1.08e+09      0.000    1.89e+16    1.89e+16\n",
            "X17[T.A173]  2.116e+16    1.7e+07   1.25e+09      0.000    2.12e+16    2.12e+16\n",
            "X17[T.A174]  1.956e+16   1.72e+07   1.13e+09      0.000    1.96e+16    1.96e+16\n",
            "X19[T.A192] -7.925e+15   4.99e+06  -1.59e+09      0.000   -7.92e+15   -7.92e+15\n",
            "X20[T.A202] -1.769e+16   1.19e+07  -1.49e+09      0.000   -1.77e+16   -1.77e+16\n",
            "X2           1.052e+15   2.52e+05   4.17e+09      0.000    1.05e+15    1.05e+15\n",
            "X5            2.95e+12   1201.232   2.46e+09      0.000    2.95e+12    2.95e+12\n",
            "X8           6.289e+15   2.23e+06   2.81e+09      0.000    6.29e+15    6.29e+15\n",
            "X11         -6.556e+14   2.23e+06  -2.94e+08      0.000   -6.56e+14   -6.56e+14\n",
            "X13         -1.562e+14   2.26e+05   -6.9e+08      0.000   -1.56e+14   -1.56e+14\n",
            "X16          6.001e+15   4.72e+06   1.27e+09      0.000       6e+15       6e+15\n",
            "X18          6.684e+15   6.41e+06   1.04e+09      0.000    6.68e+15    6.68e+15\n",
            "===============================================================================\n"
          ]
        },
        {
          "output_type": "stream",
          "name": "stderr",
          "text": [
            "/usr/local/lib/python3.8/dist-packages/statsmodels/genmod/families/family.py:947: RuntimeWarning: divide by zero encountered in log\n",
            "  y * np.log(mu / (1 - mu + 1e-20)) +\n"
          ]
        }
      ]
    },
    {
      "cell_type": "code",
      "source": [
        "print(np.exp(modelo.params[1:]))\n"
      ],
      "metadata": {
        "colab": {
          "base_uri": "https://localhost:8080/"
        },
        "id": "pkLuJX2jWBie",
        "outputId": "c349f820-b5af-4029-f27b-c211b8daa292"
      },
      "execution_count": 49,
      "outputs": [
        {
          "output_type": "stream",
          "name": "stdout",
          "text": [
            "X1[T.A12]      0.0\n",
            "X1[T.A13]      0.0\n",
            "X1[T.A14]      0.0\n",
            "X3[T.A31]      0.0\n",
            "X3[T.A32]      0.0\n",
            "X3[T.A33]      0.0\n",
            "X3[T.A34]      0.0\n",
            "X4[T.A41]      0.0\n",
            "X4[T.A410]     0.0\n",
            "X4[T.A42]      0.0\n",
            "X4[T.A43]      0.0\n",
            "X4[T.A44]      0.0\n",
            "X4[T.A45]      0.0\n",
            "X4[T.A46]      inf\n",
            "X4[T.A48]      0.0\n",
            "X4[T.A49]      0.0\n",
            "X6[T.A62]      0.0\n",
            "X6[T.A63]      0.0\n",
            "X6[T.A64]      0.0\n",
            "X6[T.A65]      0.0\n",
            "X7[T.A72]      inf\n",
            "X7[T.A73]      0.0\n",
            "X7[T.A74]      0.0\n",
            "X7[T.A75]      0.0\n",
            "X9[T.A92]      0.0\n",
            "X9[T.A93]      0.0\n",
            "X9[T.A94]      0.0\n",
            "X10[T.A102]    inf\n",
            "X10[T.A103]    0.0\n",
            "X12[T.A122]    inf\n",
            "X12[T.A123]    inf\n",
            "X12[T.A124]    inf\n",
            "X14[T.A142]    inf\n",
            "X14[T.A143]    0.0\n",
            "X15[T.A152]    0.0\n",
            "X15[T.A153]    0.0\n",
            "X17[T.A172]    inf\n",
            "X17[T.A173]    inf\n",
            "X17[T.A174]    inf\n",
            "X19[T.A192]    0.0\n",
            "X20[T.A202]    0.0\n",
            "X2             inf\n",
            "X5             inf\n",
            "X8             inf\n",
            "X11            0.0\n",
            "X13            0.0\n",
            "X16            inf\n",
            "X18            inf\n",
            "dtype: float64\n"
          ]
        },
        {
          "output_type": "stream",
          "name": "stderr",
          "text": [
            "/usr/local/lib/python3.8/dist-packages/pandas/core/arraylike.py:364: RuntimeWarning: overflow encountered in exp\n",
            "  result = getattr(ufunc, method)(*inputs, **kwargs)\n"
          ]
        }
      ]
    },
    {
      "cell_type": "code",
      "source": [
        "(np.exp(modelo.params[1:]) - 1) * 100\n"
      ],
      "metadata": {
        "colab": {
          "base_uri": "https://localhost:8080/"
        },
        "id": "CXLUtacVWQ_4",
        "outputId": "8638ed67-ba7c-4c4a-e5ad-d8470ff8a466"
      },
      "execution_count": 50,
      "outputs": [
        {
          "output_type": "execute_result",
          "data": {
            "text/plain": [
              "X1[T.A12]     -100.0\n",
              "X1[T.A13]     -100.0\n",
              "X1[T.A14]     -100.0\n",
              "X3[T.A31]     -100.0\n",
              "X3[T.A32]     -100.0\n",
              "X3[T.A33]     -100.0\n",
              "X3[T.A34]     -100.0\n",
              "X4[T.A41]     -100.0\n",
              "X4[T.A410]    -100.0\n",
              "X4[T.A42]     -100.0\n",
              "X4[T.A43]     -100.0\n",
              "X4[T.A44]     -100.0\n",
              "X4[T.A45]     -100.0\n",
              "X4[T.A46]        inf\n",
              "X4[T.A48]     -100.0\n",
              "X4[T.A49]     -100.0\n",
              "X6[T.A62]     -100.0\n",
              "X6[T.A63]     -100.0\n",
              "X6[T.A64]     -100.0\n",
              "X6[T.A65]     -100.0\n",
              "X7[T.A72]        inf\n",
              "X7[T.A73]     -100.0\n",
              "X7[T.A74]     -100.0\n",
              "X7[T.A75]     -100.0\n",
              "X9[T.A92]     -100.0\n",
              "X9[T.A93]     -100.0\n",
              "X9[T.A94]     -100.0\n",
              "X10[T.A102]      inf\n",
              "X10[T.A103]   -100.0\n",
              "X12[T.A122]      inf\n",
              "X12[T.A123]      inf\n",
              "X12[T.A124]      inf\n",
              "X14[T.A142]      inf\n",
              "X14[T.A143]   -100.0\n",
              "X15[T.A152]   -100.0\n",
              "X15[T.A153]   -100.0\n",
              "X17[T.A172]      inf\n",
              "X17[T.A173]      inf\n",
              "X17[T.A174]      inf\n",
              "X19[T.A192]   -100.0\n",
              "X20[T.A202]   -100.0\n",
              "X2               inf\n",
              "X5               inf\n",
              "X8               inf\n",
              "X11           -100.0\n",
              "X13           -100.0\n",
              "X16              inf\n",
              "X18              inf\n",
              "dtype: float64"
            ]
          },
          "metadata": {},
          "execution_count": 50
        }
      ]
    },
    {
      "cell_type": "code",
      "source": [
        "model = LogisticRegression(penalty='none', solver='newton-cg')\n",
        "baseline_df = df.dropna()\n",
        "y = baseline_df.X21\n",
        "X = pd.get_dummies(baseline_df[['X1', 'X2', 'X3', 'X4', 'X5', 'X6', 'X7', 'X8', 'X9', 'X10', 'X11', 'X12', 'X13', 'X14', 'X15', 'X16', 'X17', 'X18', 'X19', 'X20']], drop_first=True)\n",
        "print(X)"
      ],
      "metadata": {
        "colab": {
          "base_uri": "https://localhost:8080/"
        },
        "id": "yJENBG7LWSOw",
        "outputId": "4a8858b3-5e92-42aa-d926-7dcedfd41c82"
      },
      "execution_count": 52,
      "outputs": [
        {
          "output_type": "stream",
          "name": "stdout",
          "text": [
            "     X2    X5  X8  X11  X13  X16  X18  X1_A12  X1_A13  X1_A14  ...  X12_A124  \\\n",
            "0     6  1169   4    4   67    2    1       0       0       0  ...         0   \n",
            "1    48  5951   2    2   22    1    1       1       0       0  ...         0   \n",
            "2    12  2096   2    3   49    1    2       0       0       1  ...         0   \n",
            "3    42  7882   2    4   45    1    2       0       0       0  ...         0   \n",
            "4    24  4870   3    4   53    2    2       0       0       0  ...         1   \n",
            "..   ..   ...  ..  ...  ...  ...  ...     ...     ...     ...  ...       ...   \n",
            "995  12  1736   3    4   31    1    1       0       0       1  ...         0   \n",
            "996  30  3857   4    4   40    1    1       0       0       0  ...         0   \n",
            "997  12   804   4    4   38    1    1       0       0       1  ...         0   \n",
            "998  45  1845   4    4   23    1    1       0       0       0  ...         1   \n",
            "999  45  4576   3    4   27    1    1       1       0       0  ...         0   \n",
            "\n",
            "     X14_A142  X14_A143  X15_A152  X15_A153  X17_A172  X17_A173  X17_A174  \\\n",
            "0           0         1         1         0         0         1         0   \n",
            "1           0         1         1         0         0         1         0   \n",
            "2           0         1         1         0         1         0         0   \n",
            "3           0         1         0         1         0         1         0   \n",
            "4           0         1         0         1         0         1         0   \n",
            "..        ...       ...       ...       ...       ...       ...       ...   \n",
            "995         0         1         1         0         1         0         0   \n",
            "996         0         1         1         0         0         0         1   \n",
            "997         0         1         1         0         0         1         0   \n",
            "998         0         1         0         1         0         1         0   \n",
            "999         0         1         1         0         0         1         0   \n",
            "\n",
            "     X19_A192  X20_A202  \n",
            "0           1         0  \n",
            "1           0         0  \n",
            "2           0         0  \n",
            "3           0         0  \n",
            "4           0         0  \n",
            "..        ...       ...  \n",
            "995         0         0  \n",
            "996         1         0  \n",
            "997         0         0  \n",
            "998         1         0  \n",
            "999         0         0  \n",
            "\n",
            "[1000 rows x 48 columns]\n"
          ]
        }
      ]
    },
    {
      "cell_type": "code",
      "source": [
        "model.fit(X, y)\n"
      ],
      "metadata": {
        "colab": {
          "base_uri": "https://localhost:8080/"
        },
        "id": "i6PCAUk7XZYN",
        "outputId": "00db6dc5-3dec-4357-d52f-4a24a05650e8"
      },
      "execution_count": 53,
      "outputs": [
        {
          "output_type": "execute_result",
          "data": {
            "text/plain": [
              "LogisticRegression(penalty='none', solver='newton-cg')"
            ]
          },
          "metadata": {},
          "execution_count": 53
        }
      ]
    },
    {
      "cell_type": "code",
      "source": [
        "LogisticRegression(C=1.0, class_weight=None, dual=False, fit_intercept=True,\n",
        "                   intercept_scaling=1, l1_ratio=None, max_iter=100,\n",
        "                   multi_class='warn', n_jobs=None, penalty='none',\n",
        "                   random_state=None, solver='newton-cg', tol=0.0001, verbose=0,\n",
        "                   warm_start=False)"
      ],
      "metadata": {
        "colab": {
          "base_uri": "https://localhost:8080/"
        },
        "id": "7oXwYlzHXcGF",
        "outputId": "47162fda-e929-4b64-85dd-96bcc175d5fd"
      },
      "execution_count": 54,
      "outputs": [
        {
          "output_type": "execute_result",
          "data": {
            "text/plain": [
              "LogisticRegression(multi_class='warn', penalty='none', solver='newton-cg')"
            ]
          },
          "metadata": {},
          "execution_count": 54
        }
      ]
    },
    {
      "cell_type": "code",
      "source": [
        "print(model.coef_)"
      ],
      "metadata": {
        "colab": {
          "base_uri": "https://localhost:8080/"
        },
        "id": "YniiOSVoXecb",
        "outputId": "99e166c1-fd70-4f34-94e2-6be9ea9fb573"
      },
      "execution_count": 55,
      "outputs": [
        {
          "output_type": "stream",
          "name": "stdout",
          "text": [
            "[[ 2.78633262e-02  1.28274708e-04  3.30089852e-01  4.77609790e-03\n",
            "  -1.45354814e-02  2.72076121e-01  2.64671400e-01 -3.74853306e-01\n",
            "  -9.65676757e-01 -1.71188797e+00  1.43378030e-01 -5.86113154e-01\n",
            "  -8.53161142e-01 -1.43577133e+00 -1.66646712e+00 -1.48878682e+00\n",
            "  -7.91610440e-01 -8.91583456e-01 -5.22783231e-01 -2.16396017e-01\n",
            "   3.62837474e-02 -2.05943335e+00 -7.40086852e-01 -3.57740643e-01\n",
            "  -3.76072881e-01 -1.33919857e+00 -9.46689170e-01 -6.69100307e-02\n",
            "  -1.82830561e-01 -8.31001567e-01 -2.76624448e-01 -2.75454418e-01\n",
            "  -8.16077550e-01 -3.67071478e-01  4.36047674e-01 -9.78615842e-01\n",
            "   2.81438567e-01  1.94534921e-01  7.30448630e-01 -1.23200426e-01\n",
            "  -6.46328507e-01 -4.43620988e-01 -6.83860902e-01  5.36130307e-01\n",
            "   5.54717403e-01  4.79475216e-01 -3.00008050e-01 -1.39221591e+00]]\n"
          ]
        }
      ]
    },
    {
      "cell_type": "code",
      "source": [
        "yhat = model.predict_proba(X)\n",
        "yhat = yhat[:, 1]"
      ],
      "metadata": {
        "id": "jvCF16mdXRXg"
      },
      "execution_count": 58,
      "outputs": []
    },
    {
      "cell_type": "code",
      "source": [
        "confusion_matrix(y, model.predict(X)) # usando a função do sklearn\n",
        "pd.crosstab(y, model.predict(X))  # fazendo \"na mão\"\n"
      ],
      "metadata": {
        "colab": {
          "base_uri": "https://localhost:8080/",
          "height": 143
        },
        "id": "wnrBpb9DXoxL",
        "outputId": "d0f7c36c-9c02-427a-8bb1-fbff59bd857b"
      },
      "execution_count": 60,
      "outputs": [
        {
          "output_type": "execute_result",
          "data": {
            "text/plain": [
              "col_0    1    2\n",
              "X21            \n",
              "1      626   74\n",
              "2      140  160"
            ],
            "text/html": [
              "\n",
              "  <div id=\"df-eb7729bf-52d9-4504-a734-485e8f4f90cb\">\n",
              "    <div class=\"colab-df-container\">\n",
              "      <div>\n",
              "<style scoped>\n",
              "    .dataframe tbody tr th:only-of-type {\n",
              "        vertical-align: middle;\n",
              "    }\n",
              "\n",
              "    .dataframe tbody tr th {\n",
              "        vertical-align: top;\n",
              "    }\n",
              "\n",
              "    .dataframe thead th {\n",
              "        text-align: right;\n",
              "    }\n",
              "</style>\n",
              "<table border=\"1\" class=\"dataframe\">\n",
              "  <thead>\n",
              "    <tr style=\"text-align: right;\">\n",
              "      <th>col_0</th>\n",
              "      <th>1</th>\n",
              "      <th>2</th>\n",
              "    </tr>\n",
              "    <tr>\n",
              "      <th>X21</th>\n",
              "      <th></th>\n",
              "      <th></th>\n",
              "    </tr>\n",
              "  </thead>\n",
              "  <tbody>\n",
              "    <tr>\n",
              "      <th>1</th>\n",
              "      <td>626</td>\n",
              "      <td>74</td>\n",
              "    </tr>\n",
              "    <tr>\n",
              "      <th>2</th>\n",
              "      <td>140</td>\n",
              "      <td>160</td>\n",
              "    </tr>\n",
              "  </tbody>\n",
              "</table>\n",
              "</div>\n",
              "      <button class=\"colab-df-convert\" onclick=\"convertToInteractive('df-eb7729bf-52d9-4504-a734-485e8f4f90cb')\"\n",
              "              title=\"Convert this dataframe to an interactive table.\"\n",
              "              style=\"display:none;\">\n",
              "        \n",
              "  <svg xmlns=\"http://www.w3.org/2000/svg\" height=\"24px\"viewBox=\"0 0 24 24\"\n",
              "       width=\"24px\">\n",
              "    <path d=\"M0 0h24v24H0V0z\" fill=\"none\"/>\n",
              "    <path d=\"M18.56 5.44l.94 2.06.94-2.06 2.06-.94-2.06-.94-.94-2.06-.94 2.06-2.06.94zm-11 1L8.5 8.5l.94-2.06 2.06-.94-2.06-.94L8.5 2.5l-.94 2.06-2.06.94zm10 10l.94 2.06.94-2.06 2.06-.94-2.06-.94-.94-2.06-.94 2.06-2.06.94z\"/><path d=\"M17.41 7.96l-1.37-1.37c-.4-.4-.92-.59-1.43-.59-.52 0-1.04.2-1.43.59L10.3 9.45l-7.72 7.72c-.78.78-.78 2.05 0 2.83L4 21.41c.39.39.9.59 1.41.59.51 0 1.02-.2 1.41-.59l7.78-7.78 2.81-2.81c.8-.78.8-2.07 0-2.86zM5.41 20L4 18.59l7.72-7.72 1.47 1.35L5.41 20z\"/>\n",
              "  </svg>\n",
              "      </button>\n",
              "      \n",
              "  <style>\n",
              "    .colab-df-container {\n",
              "      display:flex;\n",
              "      flex-wrap:wrap;\n",
              "      gap: 12px;\n",
              "    }\n",
              "\n",
              "    .colab-df-convert {\n",
              "      background-color: #E8F0FE;\n",
              "      border: none;\n",
              "      border-radius: 50%;\n",
              "      cursor: pointer;\n",
              "      display: none;\n",
              "      fill: #1967D2;\n",
              "      height: 32px;\n",
              "      padding: 0 0 0 0;\n",
              "      width: 32px;\n",
              "    }\n",
              "\n",
              "    .colab-df-convert:hover {\n",
              "      background-color: #E2EBFA;\n",
              "      box-shadow: 0px 1px 2px rgba(60, 64, 67, 0.3), 0px 1px 3px 1px rgba(60, 64, 67, 0.15);\n",
              "      fill: #174EA6;\n",
              "    }\n",
              "\n",
              "    [theme=dark] .colab-df-convert {\n",
              "      background-color: #3B4455;\n",
              "      fill: #D2E3FC;\n",
              "    }\n",
              "\n",
              "    [theme=dark] .colab-df-convert:hover {\n",
              "      background-color: #434B5C;\n",
              "      box-shadow: 0px 1px 3px 1px rgba(0, 0, 0, 0.15);\n",
              "      filter: drop-shadow(0px 1px 2px rgba(0, 0, 0, 0.3));\n",
              "      fill: #FFFFFF;\n",
              "    }\n",
              "  </style>\n",
              "\n",
              "      <script>\n",
              "        const buttonEl =\n",
              "          document.querySelector('#df-eb7729bf-52d9-4504-a734-485e8f4f90cb button.colab-df-convert');\n",
              "        buttonEl.style.display =\n",
              "          google.colab.kernel.accessAllowed ? 'block' : 'none';\n",
              "\n",
              "        async function convertToInteractive(key) {\n",
              "          const element = document.querySelector('#df-eb7729bf-52d9-4504-a734-485e8f4f90cb');\n",
              "          const dataTable =\n",
              "            await google.colab.kernel.invokeFunction('convertToInteractive',\n",
              "                                                     [key], {});\n",
              "          if (!dataTable) return;\n",
              "\n",
              "          const docLinkHtml = 'Like what you see? Visit the ' +\n",
              "            '<a target=\"_blank\" href=https://colab.research.google.com/notebooks/data_table.ipynb>data table notebook</a>'\n",
              "            + ' to learn more about interactive tables.';\n",
              "          element.innerHTML = '';\n",
              "          dataTable['output_type'] = 'display_data';\n",
              "          await google.colab.output.renderOutput(dataTable, element);\n",
              "          const docLink = document.createElement('div');\n",
              "          docLink.innerHTML = docLinkHtml;\n",
              "          element.appendChild(docLink);\n",
              "        }\n",
              "      </script>\n",
              "    </div>\n",
              "  </div>\n",
              "  "
            ]
          },
          "metadata": {},
          "execution_count": 60
        }
      ]
    },
    {
      "cell_type": "code",
      "source": [
        "acuracia = accuracy_score(y, model.predict(X))\n",
        "print('O modelo obteve %0.4f de acurácia.' % acuracia)\n"
      ],
      "metadata": {
        "colab": {
          "base_uri": "https://localhost:8080/"
        },
        "id": "g80EcnPcX1oc",
        "outputId": "231c08f6-b325-413a-ee11-e09c5c726237"
      },
      "execution_count": 62,
      "outputs": [
        {
          "output_type": "stream",
          "name": "stdout",
          "text": [
            "O modelo obteve 0.7860 de acurácia.\n"
          ]
        }
      ]
    },
    {
      "cell_type": "code",
      "source": [
        "print(classification_report(y, model.predict(X)))\n"
      ],
      "metadata": {
        "colab": {
          "base_uri": "https://localhost:8080/"
        },
        "id": "OXz1Me-SX6Ji",
        "outputId": "0a4c353e-6f7c-4f0e-d99c-0534af1c5b3e"
      },
      "execution_count": 63,
      "outputs": [
        {
          "output_type": "stream",
          "name": "stdout",
          "text": [
            "              precision    recall  f1-score   support\n",
            "\n",
            "           1       0.82      0.89      0.85       700\n",
            "           2       0.68      0.53      0.60       300\n",
            "\n",
            "    accuracy                           0.79      1000\n",
            "   macro avg       0.75      0.71      0.73      1000\n",
            "weighted avg       0.78      0.79      0.78      1000\n",
            "\n"
          ]
        }
      ]
    },
    {
      "cell_type": "code",
      "source": [
        "asd = str()\n",
        "for x in colun:\n",
        "  asd = asd + \"'\" + x + \"'\" + \", \"\n",
        "asd"
      ],
      "metadata": {
        "colab": {
          "base_uri": "https://localhost:8080/",
          "height": 53
        },
        "id": "1KWRgNQEW2sW",
        "outputId": "238eed38-86e3-45b3-e0ff-80e22442d0b1"
      },
      "execution_count": 51,
      "outputs": [
        {
          "output_type": "execute_result",
          "data": {
            "text/plain": [
              "\"'X1', 'X2', 'X3', 'X4', 'X5', 'X6', 'X7', 'X8', 'X9', 'X10', 'X11', 'X12', 'X13', 'X14', 'X15', 'X16', 'X17', 'X18', 'X19', 'X20', 'X21', \""
            ],
            "application/vnd.google.colaboratory.intrinsic+json": {
              "type": "string"
            }
          },
          "metadata": {},
          "execution_count": 51
        }
      ]
    },
    {
      "cell_type": "code",
      "source": [
        "print('AUC: %0.2f' % roc_auc_score(y, yhat))\n"
      ],
      "metadata": {
        "colab": {
          "base_uri": "https://localhost:8080/"
        },
        "id": "eq4MOJMhYBeI",
        "outputId": "f693970e-428c-49fe-b314-091a3fb9246a"
      },
      "execution_count": 64,
      "outputs": [
        {
          "output_type": "stream",
          "name": "stdout",
          "text": [
            "AUC: 0.83\n"
          ]
        }
      ]
    }
  ]
}