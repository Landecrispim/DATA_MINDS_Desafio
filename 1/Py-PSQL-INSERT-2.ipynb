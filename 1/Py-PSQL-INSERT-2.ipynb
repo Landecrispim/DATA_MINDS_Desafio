{
 "cells": [
  {
   "cell_type": "code",
   "execution_count": 3,
   "metadata": {},
   "outputs": [],
   "source": [
    "import psycopg2\n",
    "import datetime\n",
    "import pandas as pd\n",
    "import xml.etree.ElementTree as ET\n"
   ]
  },
  {
   "cell_type": "code",
   "execution_count": 4,
   "metadata": {},
   "outputs": [],
   "source": [
    "xml_data = open('/Users/lande/OneDrive/Documents/GitHub/DATA_MINDS_Desafio/1/Registros_rev3.xml', 'r').read()"
   ]
  },
  {
   "cell_type": "code",
   "execution_count": 5,
   "metadata": {},
   "outputs": [],
   "source": [
    "root = ET.XML(xml_data)"
   ]
  },
  {
   "attachments": {},
   "cell_type": "markdown",
   "metadata": {},
   "source": [
    "SELECT"
   ]
  },
  {
   "attachments": {},
   "cell_type": "markdown",
   "metadata": {},
   "source": [
    "===================================================================================================\n",
    "\n",
    "+++++++++++++++++++++++++++++++++++++++++++++++++++++++++++++++++++++++++++++++++++++++++++++++++++\n",
    "\n",
    "==================================================================================================="
   ]
  },
  {
   "cell_type": "code",
   "execution_count": 6,
   "metadata": {},
   "outputs": [],
   "source": [
    "con = psycopg2.connect(\n",
    "    host = 'localhost',\n",
    "    database = 'Dataminds',\n",
    "    user = 'Lander',\n",
    "    password = '1337'\n",
    ")\n",
    "\n",
    "cur = con.cursor()\n",
    "\n",
    "\n",
    "\n",
    "\n",
    "\n",
    "\n",
    "\n",
    "CnpjIf = root.find('CnpjIf').text\n",
    "DtRms = root.find('DtRms').text\n",
    "\n",
    "cur.execute(\"\"\"INSERT INTO public.enviohistoricocredito(cnpjif, dtrms)\n",
    "                VALUES (%s, %s)\"\"\",(CnpjIf,DtRms))\n",
    "for Cli in root:\n",
    "    if(Cli.tag == 'Cli'):\n",
    "\n",
    "        IdfcCli = Cli.find('IdfcCli').text\n",
    "        \n",
    "        cur.execute(\"\"\"INSERT INTO public.cliente(idfccli, enviohistoricocredito_cnpjif)\n",
    "                                VALUES (%s, %s)\"\"\",(IdfcCli, CnpjIf))\n",
    "    \n",
    "\n",
    "con.close()"
   ]
  },
  {
   "cell_type": "code",
   "execution_count": 18,
   "metadata": {},
   "outputs": [],
   "source": [
    "con = psycopg2.connect(\n",
    "    host = 'localhost',\n",
    "    database = 'Dataminds',\n",
    "    user = 'Lander',\n",
    "    password = '1337'\n",
    ")\n",
    "\n",
    "\n",
    "\n",
    "\n",
    "\n",
    "\n",
    "\n",
    "\n",
    "\n",
    "#"
   ]
  },
  {
   "cell_type": "code",
   "execution_count": 19,
   "metadata": {},
   "outputs": [],
   "source": [
    "cur = con.cursor()"
   ]
  },
  {
   "cell_type": "code",
   "execution_count": 20,
   "metadata": {},
   "outputs": [],
   "source": [
    "\n",
    "cur.execute(\"select cnpjif,dtrms from enviohistoricocredito\")\n",
    "#cur.execute(\"select idfccli,enviohistoricocredito_cnpjif from cliente\")\n",
    "rows = cur.fetchall()\n",
    "#(cnpjif,dtrms)\n",
    "\n",
    "for r in rows:\n",
    "    print(f\"{r[0]}{r[1]}\")\n",
    "\n"
   ]
  },
  {
   "cell_type": "code",
   "execution_count": 21,
   "metadata": {},
   "outputs": [],
   "source": [
    "con.close()"
   ]
  }
 ],
 "metadata": {
  "kernelspec": {
   "display_name": "Python 3",
   "language": "python",
   "name": "python3"
  },
  "language_info": {
   "codemirror_mode": {
    "name": "ipython",
    "version": 3
   },
   "file_extension": ".py",
   "mimetype": "text/x-python",
   "name": "python",
   "nbconvert_exporter": "python",
   "pygments_lexer": "ipython3",
   "version": "3.11.1"
  },
  "orig_nbformat": 4,
  "vscode": {
   "interpreter": {
    "hash": "18792fb2243ff27468d5b01a7d4302a04b11bcf9f9bbce0bb3bd290825d41d08"
   }
  }
 },
 "nbformat": 4,
 "nbformat_minor": 2
}
