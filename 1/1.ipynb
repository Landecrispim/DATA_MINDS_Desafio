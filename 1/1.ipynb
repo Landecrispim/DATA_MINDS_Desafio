{
 "cells": [
  {
   "cell_type": "code",
   "execution_count": 1,
   "id": "6641f72d-8b2a-4925-b84a-4aa5ae25310e",
   "metadata": {
    "tags": []
   },
   "outputs": [],
   "source": [
    "import xml.etree.ElementTree as et"
   ]
  },
  {
   "cell_type": "code",
   "execution_count": 2,
   "id": "90238de7-9a51-49eb-824c-c4dc19552e18",
   "metadata": {
    "tags": []
   },
   "outputs": [
    {
     "name": "stdout",
     "output_type": "stream",
     "text": [
      "<xml.etree.ElementTree.ElementTree object at 0x000001F16A929610>\n"
     ]
    }
   ],
   "source": [
    "arquivo = et.parse('C:/Users/lande/OneDrive/Documents/GitHub/DATA_MINDS_Desafio/1/Registros_rev3.xml')\n",
    "print(arquivo)"
   ]
  },
  {
   "cell_type": "code",
   "execution_count": 3,
   "id": "21dd1667-13e5-4deb-a952-3c56adf44542",
   "metadata": {},
   "outputs": [],
   "source": [
    "import xml.dom.minidom as xx"
   ]
  },
  {
   "cell_type": "code",
   "execution_count": 4,
   "id": "a848e4df",
   "metadata": {},
   "outputs": [],
   "source": [
    "doc = xx.parse('C:/Users/lande/OneDrive/Documents/GitHub/DATA_MINDS_Desafio/1/Registros_rev3.xml')"
   ]
  },
  {
   "cell_type": "code",
   "execution_count": 5,
   "id": "6c4b53cb",
   "metadata": {},
   "outputs": [
    {
     "name": "stdout",
     "output_type": "stream",
     "text": [
      "#document\n"
     ]
    }
   ],
   "source": [
    "print(doc.nodeName)"
   ]
  },
  {
   "cell_type": "code",
   "execution_count": 6,
   "id": "d0ece5ce",
   "metadata": {},
   "outputs": [],
   "source": [
    "import xml.etree.ElementTree as ET\n"
   ]
  },
  {
   "cell_type": "code",
   "execution_count": 7,
   "id": "99b237c5",
   "metadata": {},
   "outputs": [
    {
     "name": "stdout",
     "output_type": "stream",
     "text": [
      "<Element 'EnvoHstCrd' at 0x000001F16AA6D670>\n"
     ]
    }
   ],
   "source": [
    "\n",
    "\n",
    "tree = ET.parse('C:/Users/lande/OneDrive/Documents/GitHub/DATA_MINDS_Desafio/1/Registros_rev3.xml')\n",
    "root = tree.getroot()\n",
    "print(root)"
   ]
  },
  {
   "cell_type": "code",
   "execution_count": 8,
   "id": "2ba44963",
   "metadata": {},
   "outputs": [
    {
     "name": "stdout",
     "output_type": "stream",
     "text": [
      "CnpjIf Cnpj da Fonte\n",
      "DtRms DataRemessa\n",
      "Cli \n",
      "        \n"
     ]
    }
   ],
   "source": [
    "root.tag\n",
    "root.attrib\n",
    "for child in root:\n",
    "    print(child.tag, child.text)\n",
    "    "
   ]
  },
  {
   "cell_type": "code",
   "execution_count": 9,
   "id": "7a8967b7",
   "metadata": {},
   "outputs": [
    {
     "name": "stdout",
     "output_type": "stream",
     "text": [
      "Identificacao\n"
     ]
    }
   ],
   "source": [
    "for movie in root.iter('Cli'):\n",
    "    for x in root.iter('IdfcCli'):\n",
    "       for i in root.inter('')"
   ]
  },
  {
   "cell_type": "code",
   "execution_count": null,
   "id": "4160bbda",
   "metadata": {},
   "outputs": [],
   "source": []
  }
 ],
 "metadata": {
  "kernelspec": {
   "display_name": "Python 3",
   "language": "python",
   "name": "python3"
  },
  "language_info": {
   "codemirror_mode": {
    "name": "ipython",
    "version": 3
   },
   "file_extension": ".py",
   "mimetype": "text/x-python",
   "name": "python",
   "nbconvert_exporter": "python",
   "pygments_lexer": "ipython3",
   "version": "3.11.1"
  },
  "vscode": {
   "interpreter": {
    "hash": "18792fb2243ff27468d5b01a7d4302a04b11bcf9f9bbce0bb3bd290825d41d08"
   }
  }
 },
 "nbformat": 4,
 "nbformat_minor": 5
}
