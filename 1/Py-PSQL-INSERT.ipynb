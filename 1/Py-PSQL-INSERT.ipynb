{
 "cells": [
  {
   "cell_type": "code",
   "execution_count": 39,
   "metadata": {},
   "outputs": [],
   "source": [
    "import psycopg2\n",
    "import datetime\n",
    "import pandas as pd\n",
    "import xml.etree.ElementTree as ET\n"
   ]
  },
  {
   "cell_type": "code",
   "execution_count": 40,
   "metadata": {},
   "outputs": [],
   "source": [
    "xml_data = open('/Users/lande/OneDrive/Documents/GitHub/DATA_MINDS_Desafio/1/Registros_rev3.xml', 'r').read()"
   ]
  },
  {
   "cell_type": "code",
   "execution_count": 41,
   "metadata": {},
   "outputs": [
    {
     "name": "stdout",
     "output_type": "stream",
     "text": [
      "[<Element 'CnpjIf' at 0x000001AA5E51FDD0>]\n"
     ]
    }
   ],
   "source": [
    "root = ET.XML(xml_data)\n",
    "print(root.findall('CnpjIf'))"
   ]
  },
  {
   "cell_type": "code",
   "execution_count": null,
   "metadata": {},
   "outputs": [],
   "source": []
  },
  {
   "cell_type": "code",
   "execution_count": 42,
   "metadata": {},
   "outputs": [],
   "source": [
    "con = psycopg2.connect(\n",
    "    host = 'localhost',\n",
    "    database = 'Dataminds',\n",
    "    user = 'Lander',\n",
    "    password = '1337'\n",
    ")"
   ]
  },
  {
   "cell_type": "code",
   "execution_count": 43,
   "metadata": {},
   "outputs": [],
   "source": [
    "\n",
    "cur = con.cursor()"
   ]
  },
  {
   "attachments": {},
   "cell_type": "markdown",
   "metadata": {},
   "source": [
    "SELECT"
   ]
  },
  {
   "cell_type": "code",
   "execution_count": 48,
   "metadata": {},
   "outputs": [
    {
     "name": "stdout",
     "output_type": "stream",
     "text": [
      "CnpjIf CnpjdaFonte\n",
      "flagg1\n",
      "DtRms 20.03.2023\n",
      "flagg\n"
     ]
    }
   ],
   "source": [
    "for child in root:\n",
    "    if(child.tag != 'Cli'):\n",
    "        print(child.tag, child.text)\n",
    "        if(child.tag == \"CnpjIf\"):\n",
    "            print(\"flagg1\")\n",
    "            cnpjif = child.text;\n",
    "        elif(child.tag == \"DtRms\"):\n",
    "            print(\"flagg\")\n",
    "            dtrms = psycopg2.Date(int(child.text[6:10]),int(child.text[3:5]),int(child.text[:2]))\n",
    "            cur.execute(\"\"\"INSERT INTO public.enviohistoricocredito(cnpjif, dtrms)\n",
    "                VALUES (%s, %s)\"\"\",(cnpjif, dtrms))"
   ]
  },
  {
   "cell_type": "code",
   "execution_count": 98,
   "metadata": {},
   "outputs": [],
   "source": [
    "cur.execute(\"\"\"INSERT INTO public.enviohistoricocredito(cnpjif, dtrms)\n",
    "\tVALUES (%s, %s)\"\"\",('Brasilf', psycopg2.Date(2023,3,22)))\n"
   ]
  },
  {
   "cell_type": "code",
   "execution_count": 49,
   "metadata": {},
   "outputs": [
    {
     "name": "stdout",
     "output_type": "stream",
     "text": [
      "CnpjdaFonte       2023-03-20\n"
     ]
    }
   ],
   "source": [
    "cur.execute(\"select cnpjif,dtrms from enviohistoricocredito\")\n",
    "rows = cur.fetchall()\n",
    "#(cnpjif,dtrms)\n",
    "\n",
    "for r in rows:\n",
    "    print(f\"{r[0]}{r[1]}\")"
   ]
  },
  {
   "attachments": {},
   "cell_type": "markdown",
   "metadata": {},
   "source": [
    "Insert"
   ]
  },
  {
   "cell_type": "code",
   "execution_count": 38,
   "metadata": {},
   "outputs": [],
   "source": [
    "con.close()"
   ]
  }
 ],
 "metadata": {
  "kernelspec": {
   "display_name": "Python 3",
   "language": "python",
   "name": "python3"
  },
  "language_info": {
   "codemirror_mode": {
    "name": "ipython",
    "version": 3
   },
   "file_extension": ".py",
   "mimetype": "text/x-python",
   "name": "python",
   "nbconvert_exporter": "python",
   "pygments_lexer": "ipython3",
   "version": "3.11.1"
  },
  "orig_nbformat": 4,
  "vscode": {
   "interpreter": {
    "hash": "18792fb2243ff27468d5b01a7d4302a04b11bcf9f9bbce0bb3bd290825d41d08"
   }
  }
 },
 "nbformat": 4,
 "nbformat_minor": 2
}
