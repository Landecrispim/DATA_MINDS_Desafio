{
 "cells": [
  {
   "cell_type": "code",
   "execution_count": 87,
   "metadata": {},
   "outputs": [],
   "source": [
    "import psycopg2\n",
    "import datetime\n",
    "import pandas as pd\n",
    "import xml.etree.ElementTree as ET\n"
   ]
  },
  {
   "cell_type": "code",
   "execution_count": 88,
   "metadata": {},
   "outputs": [],
   "source": [
    "xml_data = open('/Users/lande/OneDrive/Documents/GitHub/DATA_MINDS_Desafio/1/Registros_rev3.xml', 'r').read()\n",
    "root = ET.XML(xml_data)"
   ]
  },
  {
   "cell_type": "code",
   "execution_count": 65,
   "metadata": {},
   "outputs": [],
   "source": [
    "\n"
   ]
  },
  {
   "attachments": {},
   "cell_type": "markdown",
   "metadata": {},
   "source": [
    "INSERT"
   ]
  },
  {
   "cell_type": "code",
   "execution_count": 108,
   "metadata": {},
   "outputs": [
    {
     "name": "stdout",
     "output_type": "stream",
     "text": [
      "CdMdld Modalidade\n"
     ]
    }
   ],
   "source": [
    "con = psycopg2.connect(\n",
    "    host = 'localhost',\n",
    "    database = 'Dataminds',\n",
    "    user = 'Lander',\n",
    "    password = '1337'\n",
    ")\n",
    "\n",
    "cur = con.cursor()\n",
    "\n",
    "for child in root:\n",
    "    if(child.tag != 'Cli'):\n",
    "        #print(child.tag, child.text)\n",
    "        if(child.tag == \"CnpjIf\"):\n",
    "            #print(\"flagg1\")\n",
    "            cnpjif = child.text;\n",
    "        elif(child.tag == \"DtRms\"):\n",
    "            #print(\"flagg\")\n",
    "            dtrms = psycopg2.Date(int(child.text[6:10]),int(child.text[3:5]),int(child.text[:2]))\n",
    "            cur.execute(\"\"\"INSERT INTO public.enviohistoricocredito(cnpjif, dtrms)\n",
    "                VALUES (%s, %s)\"\"\",(cnpjif, dtrms))\n",
    "            con.commit()\n",
    "    \n",
    "    if(child.tag == 'Cli'):\n",
    "            #print(child.tag, child.text)\n",
    "                for cli_child in child:\n",
    "                    if(cli_child.tag != 'Opr'):\n",
    "                        IdfcCli = cli_child.text\n",
    "                        cur.execute(\"\"\"INSERT INTO public.cliente(idfccli, enviohistoricocredito_cnpjif)\n",
    "\t                        VALUES (%s, %s)\"\"\",(IdfcCli, cnpjif))\n",
    "                        con.commit()\n",
    "                        #print(cli_child.tag, cli_child.text)\n",
    "\n",
    "                    if(cli_child.tag == 'Opr'):\n",
    "                        for opr in cli_child:\n",
    "                            if(opr.tag not in ['DetOpr','PclAnt','PclFut']):\n",
    "                                if(opr.tag == 'NrUnco'):\n",
    "                                    cli_child.find('NrUnco').text\n",
    "                                elif(opr.tag == 'DtCtrc'):\n",
    "                                    DtCtrc = psycopg2.Date(int(opr.text[6:10]),int(opr.text[3:5]),int(opr.text[:2]))\n",
    "                                elif(opr.tag == 'DtAprc'):\n",
    "                                    DtAprc = psycopg2.Date(int(opr.text[6:10]),int(opr.text[3:5]),int(opr.text[:2]))\n",
    "                                elif(opr.tag == 'CdMdld'):\n",
    "                                    CdMdld = opr.tag\n",
    "                                    cur.execute(\"\"\"INSERT INTO public.operacao(\n",
    "                                        nrunco, cliente_idfccli, dtctrc, dtaprc, cdmdld)\n",
    "                                        VALUES (%s, %s, %s, %s, %s);\"\"\",(NrUnco, IdfcCli, DtCtrc, DtAprc, CdMdld))\n",
    "                                    con.commit()\n",
    "                                    print(opr.tag, opr.text)\n",
    "                         \n",
    "\n",
    "cur.close()\n",
    "con.close()\n",
    "\n",
    "\n",
    "\n",
    "                        "
   ]
  },
  {
   "cell_type": "code",
   "execution_count": 114,
   "metadata": {},
   "outputs": [
    {
     "name": "stdout",
     "output_type": "stream",
     "text": [
      "CdMdld Modalidade\n",
      "flag1\n",
      "flag1\n",
      "flag1\n",
      "flag1\n",
      "flaf\n",
      "flaf\n"
     ]
    }
   ],
   "source": [
    "con = psycopg2.connect(\n",
    "    host = 'localhost',\n",
    "    database = 'Dataminds',\n",
    "    user = 'Lander',\n",
    "    password = '1337'\n",
    ")\n",
    "\n",
    "cur = con.cursor()\n",
    "\n",
    "for child in root:\n",
    "    if(child.tag != 'Cli'):\n",
    "        #print(child.tag, child.text)\n",
    "        if(child.tag == \"CnpjIf\"):\n",
    "            #print(\"flagg1\")\n",
    "            cnpjif = child.text;\n",
    "        elif(child.tag == \"DtRms\"):\n",
    "            #print(\"flagg\")\n",
    "            dtrms = psycopg2.Date(int(child.text[6:10]),int(child.text[3:5]),int(child.text[:2]))\n",
    "            cur.execute(\"\"\"INSERT INTO public.enviohistoricocredito(cnpjif, dtrms)\n",
    "                VALUES (%s, %s)\"\"\",(cnpjif, dtrms))\n",
    "            con.commit()\n",
    "    \n",
    "    if(child.tag == 'Cli'):\n",
    "            #print(child.tag, child.text)\n",
    "                for cli_child in child:\n",
    "                    if(cli_child.tag != 'Opr'):\n",
    "                        IdfcCli = cli_child.text\n",
    "                        cur.execute(\"\"\"INSERT INTO public.cliente(idfccli, enviohistoricocredito_cnpjif)\n",
    "\t                        VALUES (%s, %s)\"\"\",(IdfcCli, cnpjif))\n",
    "                        con.commit()\n",
    "                        #print(cli_child.tag, cli_child.text)\n",
    "\n",
    "                    if(cli_child.tag == 'Opr'):\n",
    "                        NrUnco = ''\n",
    "                        for opr in cli_child:\n",
    "                            \n",
    "                            if(opr.tag not in ['DetOpr','PclAnt','PclFut']):\n",
    "                                if(opr.tag == 'NrUnco'):\n",
    "                                    NrUnco = opr.text\n",
    "                                elif(opr.tag == 'DtCtrc'):\n",
    "                                    DtCtrc = psycopg2.Date(int(opr.text[6:10]),int(opr.text[3:5]),int(opr.text[:2]))\n",
    "                                elif(opr.tag == 'DtAprc'):\n",
    "                                    DtAprc = psycopg2.Date(int(opr.text[6:10]),int(opr.text[3:5]),int(opr.text[:2]))\n",
    "                                elif(opr.tag == 'CdMdld'):\n",
    "                                    CdMdld = opr.text\n",
    "                                    cur.execute(\"\"\"INSERT INTO public.operacao(\n",
    "                                        nrunco, cliente_idfccli, dtctrc, dtaprc, cdmdld)\n",
    "                                        VALUES (%s, %s, %s, %s, %s);\"\"\",(NrUnco, IdfcCli, DtCtrc, DtAprc, CdMdld))\n",
    "                                    con.commit()\n",
    "                                    print(opr.tag, opr.text)\n",
    "                            \n",
    "                            if(opr.tag == 'DetOpr'):\n",
    "                                for DetOpr in opr:\n",
    "                                    print('flag1')\n",
    "                                    \n",
    "                                        \n",
    "                                    if(DetOpr.tag == 'InPreFix'):\n",
    "                                        InPreFix = DetOpr.text\n",
    "                                    elif(DetOpr.tag == 'DtVnctUltPcl'):\n",
    "                                        DtVnctUltPcl = psycopg2.Date(int(DetOpr.text[6:10]),int(DetOpr.text[3:5]),int(DetOpr.text[:2]))\n",
    "                                    elif(DetOpr.tag == 'VlCtrdFut'):\n",
    "                                        VlCtrdFut = float(DetOpr.text) \n",
    "                                    elif(DetOpr.tag == 'QtPcl'):\n",
    "                                        print('flaf')\n",
    "                                        QtPcl = int(DetOpr.text)\n",
    "                                            \n",
    "                                        print('flaf')\n",
    "                                        cur.execute(\"\"\"INSERT INTO public.detalheoperacao(\n",
    "                                                    operacao_nrunco, inprefix, dtvnctultpcl, vlctrdfut, qtpcl)\n",
    "                                                    VALUES (%s, %s, %s, %s, %s);\"\"\",(cli_child.find('NrUnco').text, InPreFix, DtVnctUltPcl, VlCtrdFut, QtPcl))\n",
    "                                        con.commit()\n",
    "                           \n",
    "                            if(opr.tag == 'PclAnt'):\n",
    "                                for PclAnt in opr:\n",
    "                                    if(PclAnt.tag == 'DtVnctPclAnt'):\n",
    "                                        DtVnctPclAnt = psycopg2.Date(int(PclAnt.text[6:10]),int(PclAnt.text[3:5]),int(PclAnt.text[:2]))\n",
    "                                    elif(PclAnt.tag == 'VlPclAnt'):\n",
    "                                        VlPclAnt = float(PclAnt.text) \n",
    "                                        cur.execute(\"\"\"INSERT INTO public.parcelaanterior(\n",
    "                                                    operacao_nrunco, dtvnctpclant, vlpclant)\n",
    "                                                    VALUES ( %s, %s, %s);\"\"\",(cli_child.find('NrUnco').text, DtVnctPclAnt, VlPclAnt))\n",
    "                                        con.commit()\n",
    "\n",
    "\n",
    "                                    \n",
    "\n",
    "cur.close()\n",
    "con.close()"
   ]
  }
 ],
 "metadata": {
  "kernelspec": {
   "display_name": "Python 3",
   "language": "python",
   "name": "python3"
  },
  "language_info": {
   "codemirror_mode": {
    "name": "ipython",
    "version": 3
   },
   "file_extension": ".py",
   "mimetype": "text/x-python",
   "name": "python",
   "nbconvert_exporter": "python",
   "pygments_lexer": "ipython3",
   "version": "3.11.1"
  },
  "orig_nbformat": 4,
  "vscode": {
   "interpreter": {
    "hash": "18792fb2243ff27468d5b01a7d4302a04b11bcf9f9bbce0bb3bd290825d41d08"
   }
  }
 },
 "nbformat": 4,
 "nbformat_minor": 2
}
