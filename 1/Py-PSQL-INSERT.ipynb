{
 "cells": [
  {
   "cell_type": "code",
   "execution_count": 63,
   "metadata": {},
   "outputs": [],
   "source": [
    "import psycopg2\n",
    "import datetime\n",
    "import pandas as pd\n",
    "import xml.etree.ElementTree as ET\n"
   ]
  },
  {
   "cell_type": "code",
   "execution_count": 64,
   "metadata": {},
   "outputs": [],
   "source": [
    "xml_data = open('/Users/lande/OneDrive/Documents/GitHub/DATA_MINDS_Desafio/1/Registros_rev3.xml', 'r').read()\n",
    "root = ET.XML(xml_data)"
   ]
  },
  {
   "cell_type": "code",
   "execution_count": 65,
   "metadata": {},
   "outputs": [],
   "source": [
    "\n"
   ]
  },
  {
   "attachments": {},
   "cell_type": "markdown",
   "metadata": {},
   "source": [
    "INSERT"
   ]
  },
  {
   "cell_type": "code",
   "execution_count": 83,
   "metadata": {},
   "outputs": [
    {
     "name": "stdout",
     "output_type": "stream",
     "text": [
      "CdMdld Modalidade\n",
      "ser?\n"
     ]
    }
   ],
   "source": [
    "con = psycopg2.connect(\n",
    "    host = 'localhost',\n",
    "    database = 'Dataminds',\n",
    "    user = 'Lander',\n",
    "    password = '1337'\n",
    ")\n",
    "\n",
    "cur = con.cursor()\n",
    "\n",
    "for child in root:\n",
    "    if(child.tag != 'Cli'):\n",
    "        #print(child.tag, child.text)\n",
    "        if(child.tag == \"CnpjIf\"):\n",
    "            #print(\"flagg1\")\n",
    "            cnpjif = child.text;\n",
    "        elif(child.tag == \"DtRms\"):\n",
    "            #print(\"flagg\")\n",
    "            dtrms = psycopg2.Date(int(child.text[6:10]),int(child.text[3:5]),int(child.text[:2]))\n",
    "            cur.execute(\"\"\"INSERT INTO public.enviohistoricocredito(cnpjif, dtrms)\n",
    "                VALUES (%s, %s)\"\"\",(cnpjif, dtrms))\n",
    "            con.commit()\n",
    "    \n",
    "    if(child.tag == 'Cli'):\n",
    "            #print(child.tag, child.text)\n",
    "                for cli_child in child:\n",
    "                    if(cli_child.tag != 'Opr'):\n",
    "                        IdfcCli = cli_child.text\n",
    "                        cur.execute(\"\"\"INSERT INTO public.cliente(idfccli, enviohistoricocredito_cnpjif)\n",
    "\t                        VALUES (%s, %s)\"\"\",(IdfcCli, cnpjif))\n",
    "                        con.commit()\n",
    "                        #print(cli_child.tag, cli_child.text)\n",
    "\n",
    "                    if(cli_child.tag == 'Opr'):\n",
    "                        for opr in cli_child:\n",
    "                            if(opr.tag not in ['DetOpr','PclAnt','PclFut']):\n",
    "                                if(opr.tag == 'NrUnco'):\n",
    "                                    NrUnco = opr.tag\n",
    "                                elif(opr.tag == 'DtCtrc'):\n",
    "                                    DtCtrc = psycopg2.Date(int(opr.text[6:10]),int(opr.text[3:5]),int(opr.text[:2]))\n",
    "                                elif(opr.tag == 'DtAprc'):\n",
    "                                    DtAprc = psycopg2.Date(int(opr.text[6:10]),int(opr.text[3:5]),int(opr.text[:2]))\n",
    "                                elif(opr.tag == 'CdMdld'):\n",
    "                                    CdMdld = opr.tag\n",
    "                                    cur.execute(\"\"\"INSERT INTO public.operacao(\n",
    "                                        nrunco, cliente_idfccli, dtctrc, dtaprc, cdmdld)\n",
    "                                        VALUES (%s, %s, %s, %s, %s);\"\"\",(NrUnco, IdfcCli, DtCtrc, DtAprc, CdMdld))\n",
    "                                    con.commit()\n",
    "                                    print(opr.tag, opr.text)\n",
    "                         \n",
    "\n",
    "cur.close()\n",
    "con.close()\n",
    "\n",
    "\n",
    "ese\n",
    "                        "
   ]
  },
  {
   "cell_type": "code",
   "execution_count": null,
   "metadata": {},
   "outputs": [],
   "source": [
    "con = psycopg2.connect(\n",
    "    host = 'localhost',\n",
    "    database = 'Dataminds',\n",
    "    user = 'Lander',\n",
    "    password = '1337'\n",
    ")\n",
    "\n",
    "cur = con.cursor()\n",
    "\n",
    "for child in root:\n",
    "    if(child.tag != 'Cli'):\n",
    "        #print(child.tag, child.text)\n",
    "        if(child.tag == \"CnpjIf\"):\n",
    "            #print(\"flagg1\")\n",
    "            cnpjif = child.text;\n",
    "        elif(child.tag == \"DtRms\"):\n",
    "            #print(\"flagg\")\n",
    "            dtrms = psycopg2.Date(int(child.text[6:10]),int(child.text[3:5]),int(child.text[:2]))\n",
    "            cur.execute(\"\"\"INSERT INTO public.enviohistoricocredito(cnpjif, dtrms)\n",
    "                VALUES (%s, %s)\"\"\",(cnpjif, dtrms))\n",
    "            con.commit()\n",
    "    \n",
    "    if(child.tag == 'Cli'):\n",
    "            #print(child.tag, child.text)\n",
    "                for cli_child in child:\n",
    "                    if(cli_child.tag != 'Opr'):\n",
    "                        IdfcCli = cli_child.text\n",
    "                        cur.execute(\"\"\"INSERT INTO public.cliente(idfccli, enviohistoricocredito_cnpjif)\n",
    "\t                        VALUES (%s, %s)\"\"\",(IdfcCli, cnpjif))\n",
    "                        con.commit()\n",
    "                        #print(cli_child.tag, cli_child.text)\n",
    "\n",
    "                    if(cli_child.tag == 'Opr'):\n",
    "                        for opr in cli_child:\n",
    "                            if(opr.tag not in ['DetOpr','PclAnt','PclFut']):\n",
    "                                if(opr.tag == 'NrUnco'):\n",
    "                                    NrUnco = opr.tag\n",
    "                                elif(opr.tag == 'DtCtrc'):\n",
    "                                    DtCtrc = psycopg2.Date(int(opr.text[6:10]),int(opr.text[3:5]),int(opr.text[:2]))\n",
    "                                elif(opr.tag == 'DtAprc'):\n",
    "                                    DtAprc = psycopg2.Date(int(opr.text[6:10]),int(opr.text[3:5]),int(opr.text[:2]))\n",
    "                                elif(opr.tag == 'CdMdld'):\n",
    "                                    CdMdld = opr.tag\n",
    "                                    cur.execute(\"\"\"INSERT INTO public.operacao(\n",
    "                                        nrunco, cliente_idfccli, dtctrc, dtaprc, cdmdld)\n",
    "                                        VALUES (%s, %s, %s, %s, %s);\"\"\",(NrUnco, IdfcCli, DtCtrc, DtAprc, CdMdld))\n",
    "                                    con.commit()\n",
    "                                    print(opr.tag, opr.text)\n",
    "                         \n",
    "\n",
    "cur.close()\n",
    "con.close()"
   ]
  }
 ],
 "metadata": {
  "kernelspec": {
   "display_name": "Python 3",
   "language": "python",
   "name": "python3"
  },
  "language_info": {
   "codemirror_mode": {
    "name": "ipython",
    "version": 3
   },
   "file_extension": ".py",
   "mimetype": "text/x-python",
   "name": "python",
   "nbconvert_exporter": "python",
   "pygments_lexer": "ipython3",
   "version": "3.11.1"
  },
  "orig_nbformat": 4,
  "vscode": {
   "interpreter": {
    "hash": "18792fb2243ff27468d5b01a7d4302a04b11bcf9f9bbce0bb3bd290825d41d08"
   }
  }
 },
 "nbformat": 4,
 "nbformat_minor": 2
}
