{
 "cells": [
  {
   "cell_type": "code",
   "execution_count": 131,
   "metadata": {},
   "outputs": [],
   "source": [
    "#pip install pandas"
   ]
  },
  {
   "cell_type": "code",
   "execution_count": 132,
   "metadata": {},
   "outputs": [],
   "source": [
    "import pandas as pd\n",
    "import xml.etree.ElementTree as ET\n"
   ]
  },
  {
   "cell_type": "code",
   "execution_count": 133,
   "metadata": {},
   "outputs": [],
   "source": [
    "xml_data = open('/Users/lande/OneDrive/Documents/GitHub/DATA_MINDS_Desafio/1/Registros_rev3.1.xml', 'r').read()"
   ]
  },
  {
   "cell_type": "code",
   "execution_count": 134,
   "metadata": {},
   "outputs": [
    {
     "name": "stdout",
     "output_type": "stream",
     "text": [
      "[<Element 'CnpjIf' at 0x0000017A1EADA520>]\n"
     ]
    }
   ],
   "source": [
    "root = ET.XML(xml_data)\n",
    "print(root.findall('CnpjIf'))"
   ]
  },
  {
   "attachments": {},
   "cell_type": "markdown",
   "metadata": {},
   "source": [
    "Envio Historico Credito"
   ]
  },
  {
   "cell_type": "code",
   "execution_count": 135,
   "metadata": {},
   "outputs": [
    {
     "name": "stdout",
     "output_type": "stream",
     "text": [
      "CnpjIf CnpjdaFonte\n",
      "DtRms DataRemessa\n"
     ]
    }
   ],
   "source": [
    "for child in root:\n",
    "    if(child.tag != 'Cli'):\n",
    "        print(child.tag, child.text)"
   ]
  },
  {
   "attachments": {},
   "cell_type": "markdown",
   "metadata": {},
   "source": [
    "Detalhe Operacao"
   ]
  },
  {
   "cell_type": "code",
   "execution_count": 136,
   "metadata": {},
   "outputs": [
    {
     "name": "stdout",
     "output_type": "stream",
     "text": [
      "IdfcCli Identificacao\n",
      "IdfcCli Identificacao\n"
     ]
    }
   ],
   "source": [
    "for child in root:\n",
    "    if(child.tag == 'Cli'):\n",
    "            #print(child.tag, child.text)\n",
    "                for cli_child in child:\n",
    "                    if(cli_child.tag != 'Opr'):\n",
    "                        print(cli_child.tag, cli_child.text)"
   ]
  },
  {
   "attachments": {},
   "cell_type": "markdown",
   "metadata": {},
   "source": [
    "Operacao"
   ]
  },
  {
   "cell_type": "code",
   "execution_count": 137,
   "metadata": {},
   "outputs": [
    {
     "name": "stdout",
     "output_type": "stream",
     "text": [
      "NrUnco NumeroUnico\n",
      "DtCtrc 10.01.2019\n",
      "DtAprc DataApuracao\n",
      "CdMdld Modalidade\n",
      "NrUnco NumeroUnico\n",
      "DtCtrc 10.01.2019\n",
      "DtAprc DataApuracao\n",
      "CdMdld Modalidade\n"
     ]
    }
   ],
   "source": [
    "for child in root:\n",
    "    if(child.tag == 'Cli'):\n",
    "            #print(child.tag, child.text)\n",
    "                for cli_child in child:\n",
    "                    #if(cli_child.tag != 'Opr'):\n",
    "                        #print(cli_child.tag, cli_child.text)\n",
    "                    \n",
    "                    if(cli_child.tag == 'Opr'):\n",
    "                        for opr in cli_child:\n",
    "                            if(opr.tag not in ['DetOpr','PclAnt','PclFut']):\n",
    "                                print(opr.tag, opr.text)"
   ]
  },
  {
   "attachments": {},
   "cell_type": "markdown",
   "metadata": {},
   "source": [
    "Detalhe Operacao"
   ]
  },
  {
   "cell_type": "code",
   "execution_count": 138,
   "metadata": {},
   "outputs": [
    {
     "name": "stdout",
     "output_type": "stream",
     "text": [
      "InPreFix true\n",
      "DtVnctUltPcl 10.02.2021\n",
      "VlCtrdFut 30000.00\n",
      "QtPcl 25\n",
      "InPreFix true\n",
      "DtVnctUltPcl 10.02.2021\n",
      "VlCtrdFut 30000.00\n",
      "QtPcl 25\n"
     ]
    }
   ],
   "source": [
    "for child in root:\n",
    "    if(child.tag == 'Cli'):\n",
    "            #print(child.tag, child.text)\n",
    "                for cli_child in child:\n",
    "                    #if(cli_child.tag != 'Opr'):\n",
    "                        #print(cli_child.tag, cli_child.text)\n",
    "                    \n",
    "                    if(cli_child.tag == 'Opr'):\n",
    "                        for opr in cli_child:\n",
    "                            #if(opr.tag not in ['DetOpr','PclAnt','PclFut']):\n",
    "                                #print(opr.tag, opr.text)\n",
    "                            \n",
    "                            if(opr.tag == 'DetOpr'):\n",
    "                                for DetOpr in opr:\n",
    "                                    print(DetOpr.tag, DetOpr.text)"
   ]
  },
  {
   "attachments": {},
   "cell_type": "markdown",
   "metadata": {},
   "source": [
    "Parcelas Futuras"
   ]
  },
  {
   "cell_type": "code",
   "execution_count": 139,
   "metadata": {},
   "outputs": [
    {
     "name": "stdout",
     "output_type": "stream",
     "text": [
      "DtVnctPrxPcl 10.03.2019\n",
      "VlPrxPcl 1200.00\n",
      "QtPclVncr 24\n",
      "QtPclPgr QuantidadeParcelasAPagar\n",
      "DtVnctPrxPcl 10.03.2019\n",
      "VlPrxPcl 1200.00\n",
      "QtPclVncr 24\n",
      "QtPclPgr QuantidadeParcelasAPagar\n"
     ]
    }
   ],
   "source": [
    "for child in root:\n",
    "    if(child.tag == 'Cli'):\n",
    "            #print(child.tag, child.text)\n",
    "                for cli_child in child:\n",
    "                    #if(cli_child.tag != 'Opr'):\n",
    "                        #print(cli_child.tag, cli_child.text)\n",
    "                    \n",
    "                    if(cli_child.tag == 'Opr'):\n",
    "                        for opr in cli_child:\n",
    "                            #if(opr.tag not in ['DetOpr','PclAnt','PclFut']):\n",
    "                                #print(opr.tag, opr.text)\n",
    "                            \n",
    "                           # if(opr.tag == 'DetOpr'):\n",
    "                                #for DetOpr in opr:\n",
    "                                    #print(DetOpr.tag, DetOpr.text)\n",
    "                            \n",
    "                            if(opr.tag == 'PclFut'):\n",
    "                                for PclFut in opr:\n",
    "                                    print(PclFut.tag, PclFut.text)\n",
    "                            "
   ]
  },
  {
   "attachments": {},
   "cell_type": "markdown",
   "metadata": {},
   "source": [
    "Parcela Anterior"
   ]
  },
  {
   "cell_type": "code",
   "execution_count": 140,
   "metadata": {},
   "outputs": [
    {
     "name": "stdout",
     "output_type": "stream",
     "text": [
      "DtVnctPclAnt 10.02.2019\n",
      "VlPclAnt 1200.00\n",
      "DtVnctPclAnt 10.02.2019\n",
      "VlPclAnt 1200.00\n"
     ]
    }
   ],
   "source": [
    "for child in root:\n",
    "    if(child.tag == 'Cli'):\n",
    "            #print(child.tag, child.text)\n",
    "                for cli_child in child:\n",
    "                    #if(cli_child.tag != 'Opr'):\n",
    "                        #print(cli_child.tag, cli_child.text)\n",
    "                    \n",
    "                    if(cli_child.tag == 'Opr'):\n",
    "                        for opr in cli_child:\n",
    "                            #if(opr.tag not in ['DetOpr','PclAnt','PclFut']):\n",
    "                                #print(opr.tag, opr.text)\n",
    "                            \n",
    "                           # if(opr.tag == 'DetOpr'):\n",
    "                                #for DetOpr in opr:\n",
    "                                    #print(DetOpr.tag, DetOpr.text)\n",
    "                            \n",
    "                            #if(opr.tag == 'PclFut'):\n",
    "                                #for PclFut in opr:\n",
    "                                    #print(PclFut.tag, PclFut.text)\n",
    "                            \n",
    "                            if(opr.tag == 'PclAnt'):\n",
    "                                for PclAnt in opr:\n",
    "                                    if(PclAnt.tag != 'PgtoPclAnt'):\n",
    "                                        print(PclAnt.tag, PclAnt.text)"
   ]
  },
  {
   "attachments": {},
   "cell_type": "markdown",
   "metadata": {},
   "source": [
    "Pagamento Parcela Anterior"
   ]
  },
  {
   "cell_type": "code",
   "execution_count": 141,
   "metadata": {},
   "outputs": [
    {
     "name": "stdout",
     "output_type": "stream",
     "text": [
      "DtPgtoPclAnt 09.02.2019\n",
      "VlPgtoPclAnt 1200.00\n",
      "DtPgtoPclAnt 09.02.2019\n",
      "VlPgtoPclAnt 1200.00\n"
     ]
    }
   ],
   "source": [
    "for child in root:\n",
    "    if(child.tag == 'Cli'):\n",
    "            #print(child.tag, child.text)\n",
    "                for cli_child in child:\n",
    "                    #if(cli_child.tag != 'Opr'):\n",
    "                        #print(cli_child.tag, cli_child.text)\n",
    "                    \n",
    "                    if(cli_child.tag == 'Opr'):\n",
    "                        for opr in cli_child:\n",
    "                            #if(opr.tag not in ['DetOpr','PclAnt','PclFut']):\n",
    "                                #print(opr.tag, opr.text)\n",
    "                            \n",
    "                           # if(opr.tag == 'DetOpr'):\n",
    "                                #for DetOpr in opr:\n",
    "                                    #print(DetOpr.tag, DetOpr.text)\n",
    "                            \n",
    "                            #if(opr.tag == 'PclFut'):\n",
    "                                #for PclFut in opr:\n",
    "                                    #print(PclFut.tag, PclFut.text)\n",
    "                            \n",
    "                            if(opr.tag == 'PclAnt'):\n",
    "                                for PclAnt in opr:\n",
    "                                    #if(PclAnt.tag != 'PgtoPclAnt'):\n",
    "                                        #print(PclAnt.tag, PclAnt.text)\n",
    "                                    if(PclAnt.tag == 'PgtoPclAnt'):\n",
    "                                        for PgtoPclAnt in PclAnt:\n",
    "                                            print(PgtoPclAnt.tag, PgtoPclAnt.text)\n",
    "                                    \n"
   ]
  },
  {
   "attachments": {},
   "cell_type": "markdown",
   "metadata": {},
   "source": [
    "FULL"
   ]
  },
  {
   "cell_type": "code",
   "execution_count": 143,
   "metadata": {},
   "outputs": [
    {
     "name": "stdout",
     "output_type": "stream",
     "text": [
      "Cli \n",
      "        \n",
      "IdfcCli Identificacao\n",
      "NrUnco NumeroUnico\n",
      "DtCtrc 10.01.2019\n",
      "DtAprc DataApuracao\n",
      "CdMdld Modalidade\n",
      "InPreFix true\n",
      "DtVnctUltPcl 10.02.2021\n",
      "VlCtrdFut 30000.00\n",
      "QtPcl 25\n",
      "DtVnctPclAnt 10.02.2019\n",
      "VlPclAnt 1200.00\n",
      "DtPgtoPclAnt 09.02.2019\n",
      "VlPgtoPclAnt 1200.00\n",
      "DtVnctPrxPcl 10.03.2019\n",
      "VlPrxPcl 1200.00\n",
      "QtPclVncr 24\n",
      "QtPclPgr QuantidadeParcelasAPagar\n",
      "Cli \n",
      "        \n",
      "IdfcCli Identificacao\n",
      "NrUnco NumeroUnico\n",
      "DtCtrc 10.01.2019\n",
      "DtAprc DataApuracao\n",
      "CdMdld Modalidade\n",
      "InPreFix true\n",
      "DtVnctUltPcl 10.02.2021\n",
      "VlCtrdFut 30000.00\n",
      "QtPcl 25\n",
      "DtVnctPclAnt 10.02.2019\n",
      "VlPclAnt 1200.00\n",
      "DtPgtoPclAnt 09.02.2019\n",
      "VlPgtoPclAnt 1200.00\n",
      "DtVnctPrxPcl 10.03.2019\n",
      "VlPrxPcl 1200.00\n",
      "QtPclVncr 24\n",
      "QtPclPgr QuantidadeParcelasAPagar\n"
     ]
    }
   ],
   "source": [
    "for child in root:\n",
    "    if(child.tag == 'Cli'):\n",
    "            print(child.tag, child.text)\n",
    "            for cli_child in child:\n",
    "                    if(cli_child.tag != 'Opr'):\n",
    "                        print(cli_child.tag, cli_child.text)\n",
    "                    \n",
    "                    if(cli_child.tag == 'Opr'):\n",
    "                        for opr in cli_child:\n",
    "                            if(opr.tag not in ['DetOpr','PclAnt','PclFut']):\n",
    "                                print(opr.tag, opr.text)\n",
    "                            \n",
    "                            if(opr.tag == 'DetOpr'):\n",
    "                                for DetOpr in opr:\n",
    "                                    print(DetOpr.tag, DetOpr.text)\n",
    "                            \n",
    "                            if(opr.tag == 'PclFut'):\n",
    "                                for PclFut in opr:\n",
    "                                    print(PclFut.tag, PclFut.text)\n",
    "                            \n",
    "                            if(opr.tag == 'PclAnt'):\n",
    "                                for PclAnt in opr:\n",
    "                                    if(PclAnt.tag != 'PgtoPclAnt'):\n",
    "                                        print(PclAnt.tag, PclAnt.text)\n",
    "                                    if(PclAnt.tag == 'PgtoPclAnt'):\n",
    "                                        for PgtoPclAnt in PclAnt:\n",
    "                                            print(PgtoPclAnt.tag, PgtoPclAnt.text)\n",
    "                                    "
   ]
  }
 ],
 "metadata": {
  "kernelspec": {
   "display_name": "Python 3",
   "language": "python",
   "name": "python3"
  },
  "language_info": {
   "codemirror_mode": {
    "name": "ipython",
    "version": 3
   },
   "file_extension": ".py",
   "mimetype": "text/x-python",
   "name": "python",
   "nbconvert_exporter": "python",
   "pygments_lexer": "ipython3",
   "version": "3.11.1"
  },
  "orig_nbformat": 4,
  "vscode": {
   "interpreter": {
    "hash": "18792fb2243ff27468d5b01a7d4302a04b11bcf9f9bbce0bb3bd290825d41d08"
   }
  }
 },
 "nbformat": 4,
 "nbformat_minor": 2
}
