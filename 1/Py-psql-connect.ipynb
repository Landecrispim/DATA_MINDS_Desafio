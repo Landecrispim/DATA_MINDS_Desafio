{
 "cells": [
  {
   "cell_type": "code",
   "execution_count": null,
   "metadata": {},
   "outputs": [],
   "source": [
    "#pip install pandas"
   ]
  },
  {
   "cell_type": "code",
   "execution_count": 36,
   "metadata": {},
   "outputs": [],
   "source": [
    "import pandas as pd\n",
    "import xml.etree.ElementTree as ET\n"
   ]
  },
  {
   "cell_type": "code",
   "execution_count": 49,
   "metadata": {},
   "outputs": [],
   "source": [
    "xml_data = open('/Users/lande/OneDrive/Documents/GitHub/DATA_MINDS_Desafio/1/Registros_rev3.xml', 'r').read()"
   ]
  },
  {
   "cell_type": "code",
   "execution_count": 78,
   "metadata": {},
   "outputs": [
    {
     "name": "stdout",
     "output_type": "stream",
     "text": [
      "[<Element 'CnpjIf' at 0x0000017A37653240>]\n"
     ]
    }
   ],
   "source": [
    "root = ET.XML(xml_data)\n",
    "print(root.findall('CnpjIf'))"
   ]
  },
  {
   "attachments": {},
   "cell_type": "markdown",
   "metadata": {},
   "source": [
    "Envio Historico Credito"
   ]
  },
  {
   "cell_type": "code",
   "execution_count": 106,
   "metadata": {},
   "outputs": [
    {
     "name": "stdout",
     "output_type": "stream",
     "text": [
      "CnpjIf CnpjdaFonte\n",
      "DtRms DataRemessa\n"
     ]
    }
   ],
   "source": [
    "filtro = \"*\"\n",
    "for child in root:\n",
    "    if(child.tag != 'Cli'):\n",
    "        print(child.tag, child.text)"
   ]
  },
  {
   "attachments": {},
   "cell_type": "markdown",
   "metadata": {},
   "source": [
    "Detalhe Operacao"
   ]
  },
  {
   "cell_type": "code",
   "execution_count": 108,
   "metadata": {},
   "outputs": [
    {
     "name": "stdout",
     "output_type": "stream",
     "text": [
      "IdfcCli Identificacao\n"
     ]
    }
   ],
   "source": [
    "for child in root:\n",
    "    if(child.tag == 'Cli'):\n",
    "            #print(child.tag, child.text)\n",
    "                for cli_child in child:\n",
    "                    if(cli_child.tag != 'Opr'):\n",
    "                        print(cli_child.tag, cli_child.text)"
   ]
  },
  {
   "attachments": {},
   "cell_type": "markdown",
   "metadata": {},
   "source": [
    "Parcelas Futuras"
   ]
  }
 ],
 "metadata": {
  "kernelspec": {
   "display_name": "Python 3",
   "language": "python",
   "name": "python3"
  },
  "language_info": {
   "codemirror_mode": {
    "name": "ipython",
    "version": 3
   },
   "file_extension": ".py",
   "mimetype": "text/x-python",
   "name": "python",
   "nbconvert_exporter": "python",
   "pygments_lexer": "ipython3",
   "version": "3.11.1"
  },
  "orig_nbformat": 4,
  "vscode": {
   "interpreter": {
    "hash": "18792fb2243ff27468d5b01a7d4302a04b11bcf9f9bbce0bb3bd290825d41d08"
   }
  }
 },
 "nbformat": 4,
 "nbformat_minor": 2
}
